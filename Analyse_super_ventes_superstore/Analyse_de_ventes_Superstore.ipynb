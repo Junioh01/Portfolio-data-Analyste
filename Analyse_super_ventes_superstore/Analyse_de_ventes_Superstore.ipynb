{
 "cells": [
  {
   "cell_type": "markdown",
   "id": "388f50d3",
   "metadata": {},
   "source": [
    "# Projet analyse de ventes "
   ]
  },
  {
   "cell_type": "markdown",
   "id": "5ca62d9b",
   "metadata": {},
   "source": [
    "## Objectif :\n",
    "Analyser les performances commerciales d’un magasin (Superstore) pour :\n",
    "- Identifier les produits, régions et segments clients les plus rentables,\n",
    "- Détecter les pertes et zones d’optimisation,\n",
    "- Proposer des recommandations stratégiques.\n",
    "\n"
   ]
  },
  {
   "cell_type": "markdown",
   "id": "ab7dcd6c",
   "metadata": {},
   "source": [
    "## Importation des packages et bibliothèques"
   ]
  },
  {
   "cell_type": "code",
   "execution_count": 6,
   "id": "6d7d59cd",
   "metadata": {},
   "outputs": [
    {
     "name": "stdout",
     "output_type": "stream",
     "text": [
      "Collecting openpyxl\n",
      "  Downloading openpyxl-3.1.5-py2.py3-none-any.whl (250 kB)\n",
      "                                              0.0/250.9 kB ? eta -:--:--\n",
      "     ------                                41.0/250.9 kB 991.0 kB/s eta 0:00:01\n",
      "     ------                                41.0/250.9 kB 991.0 kB/s eta 0:00:01\n",
      "     -------------                         92.2/250.9 kB 655.4 kB/s eta 0:00:01\n",
      "     -----------------                    122.9/250.9 kB 658.7 kB/s eta 0:00:01\n",
      "     -----------------------------        204.8/250.9 kB 892.5 kB/s eta 0:00:01\n",
      "     -------------------------------------  245.8/250.9 kB 1.0 MB/s eta 0:00:01\n",
      "     ------------------------------------ 250.9/250.9 kB 856.5 kB/s eta 0:00:00\n",
      "Collecting et-xmlfile (from openpyxl)\n",
      "  Downloading et_xmlfile-2.0.0-py3-none-any.whl (18 kB)\n",
      "Installing collected packages: et-xmlfile, openpyxl\n",
      "Successfully installed et-xmlfile-2.0.0 openpyxl-3.1.5\n",
      "Note: you may need to restart the kernel to use updated packages.\n"
     ]
    },
    {
     "name": "stderr",
     "output_type": "stream",
     "text": [
      "\n",
      "[notice] A new release of pip is available: 23.1.2 -> 25.1.1\n",
      "[notice] To update, run: python.exe -m pip install --upgrade pip\n"
     ]
    }
   ],
   "source": [
    "pip install openpyxl"
   ]
  },
  {
   "cell_type": "code",
   "execution_count": 10,
   "id": "e02368b4",
   "metadata": {},
   "outputs": [
    {
     "name": "stdout",
     "output_type": "stream",
     "text": [
      "Note: you may need to restart the kernel to use updated packages.\n"
     ]
    },
    {
     "name": "stderr",
     "output_type": "stream",
     "text": [
      "ERROR: Could not find a version that satisfies the requirement os (from versions: none)\n",
      "ERROR: No matching distribution found for os\n",
      "\n",
      "[notice] A new release of pip is available: 23.1.2 -> 25.1.1\n",
      "[notice] To update, run: python.exe -m pip install --upgrade pip\n"
     ]
    }
   ],
   "source": [
    "pip install os"
   ]
  },
  {
   "cell_type": "code",
   "execution_count": 11,
   "id": "cb33e409",
   "metadata": {},
   "outputs": [],
   "source": [
    "import numpy as np\n",
    "import pandas as pd\n",
    "import seaborn as sns\n",
    "import matplotlib.pyplot as plt\n",
    "import statsmodels.api as sm\n",
    "from scipy.stats import pearsonr\n",
    "from scipy.stats import chi2_contingency\n",
    "import scipy.stats as stats \n",
    "import scipy.stats as st\n",
    "import pingouin as pg\n",
    "import openpyxl\n",
    "import os"
   ]
  },
  {
   "cell_type": "code",
   "execution_count": 12,
   "id": "2de05ca4",
   "metadata": {},
   "outputs": [
    {
     "name": "stdout",
     "output_type": "stream",
     "text": [
      "c:\\Users\\HP 840 G3\\OneDrive\\Documents\\Portfolio\\Portfolio-data-Analyste\\Analyse_super_ventes_superstore\n"
     ]
    }
   ],
   "source": [
    "\n",
    "print(os.getcwd())"
   ]
  },
  {
   "cell_type": "code",
   "execution_count": 13,
   "id": "1c0e7edd",
   "metadata": {},
   "outputs": [
    {
     "name": "stdout",
     "output_type": "stream",
     "text": [
      "True\n"
     ]
    }
   ],
   "source": [
    "print(\"global_superstore_2016.xlsx\" in os.listdir())\n"
   ]
  },
  {
   "cell_type": "markdown",
   "id": "8d0b0cb7",
   "metadata": {},
   "source": [
    "## Importation et exploration des données"
   ]
  }
 ],
 "metadata": {
  "kernelspec": {
   "display_name": "Python 3",
   "language": "python",
   "name": "python3"
  },
  "language_info": {
   "codemirror_mode": {
    "name": "ipython",
    "version": 3
   },
   "file_extension": ".py",
   "mimetype": "text/x-python",
   "name": "python",
   "nbconvert_exporter": "python",
   "pygments_lexer": "ipython3",
   "version": "3.11.4"
  }
 },
 "nbformat": 4,
 "nbformat_minor": 5
}
