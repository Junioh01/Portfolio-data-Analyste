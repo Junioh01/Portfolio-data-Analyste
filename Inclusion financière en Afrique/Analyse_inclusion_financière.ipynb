{
 "cells": [
  {
   "cell_type": "markdown",
   "id": "5c150d23",
   "metadata": {},
   "source": [
    "## Projet:\n",
    "Analyse de l'adoption des Fintechs et de l'inclusion financière en Afrique."
   ]
  },
  {
   "cell_type": "markdown",
   "id": "49e92135",
   "metadata": {},
   "source": [
    "**Objectif** : Analyser les dynamiques d’adoption des services fintechs en Afrique et identifier les facteurs favorisant ou freinant l'inclusion financière.\n",
    "\n",
    "**Contexte** : Croissance des fintechs en Afrique comme alternative ou complément aux banques traditionnelles.\n",
    "\n",
    "**Jeu de données** : Données fictives ou ouvertes contenant des informations sur l’usage des fintechs, réparties par pays, âge, année, etc."
   ]
  },
  {
   "cell_type": "markdown",
   "id": "2cf37e2f",
   "metadata": {},
   "source": [
    "## Importation des packages."
   ]
  },
  {
   "cell_type": "code",
   "execution_count": 1,
   "id": "b203af3c",
   "metadata": {},
   "outputs": [],
   "source": [
    "import numpy as np\n",
    "import matplotlib.pyplot as plt\n",
    "import pandas as pd\n",
    "import seaborn as sns\n",
    "from scipy.stats import skew, kurtosis"
   ]
  },
  {
   "cell_type": "markdown",
   "id": "158d6006",
   "metadata": {},
   "source": [
    "## Chargement  et aperçu du jeu de données."
   ]
  },
  {
   "cell_type": "code",
   "execution_count": 2,
   "id": "43842ca7",
   "metadata": {},
   "outputs": [
    {
     "data": {
      "application/vnd.microsoft.datawrangler.viewer.v0+json": {
       "columns": [
        {
         "name": "index",
         "rawType": "int64",
         "type": "integer"
        },
        {
         "name": "Startup Name",
         "rawType": "object",
         "type": "string"
        },
        {
         "name": "Industry",
         "rawType": "object",
         "type": "string"
        },
        {
         "name": "Funding Rounds",
         "rawType": "int64",
         "type": "integer"
        },
        {
         "name": "Funding Amount (M USD)",
         "rawType": "float64",
         "type": "float"
        },
        {
         "name": "Valuation (M USD)",
         "rawType": "float64",
         "type": "float"
        },
        {
         "name": "Revenue (M USD)",
         "rawType": "float64",
         "type": "float"
        },
        {
         "name": "Employees",
         "rawType": "int64",
         "type": "integer"
        },
        {
         "name": "Market Share (%)",
         "rawType": "float64",
         "type": "float"
        },
        {
         "name": "Profitable",
         "rawType": "int64",
         "type": "integer"
        },
        {
         "name": "Year Founded",
         "rawType": "int64",
         "type": "integer"
        },
        {
         "name": "Region",
         "rawType": "object",
         "type": "string"
        },
        {
         "name": "Exit Status",
         "rawType": "object",
         "type": "string"
        }
       ],
       "ref": "d594651e-ef87-4e11-acf3-1e1e14347cdb",
       "rows": [
        [
         "0",
         "Startup_1",
         "IoT",
         "1",
         "101.09",
         "844.75",
         "67.87",
         "1468",
         "5.2",
         "0",
         "2006",
         "Europe",
         "Private"
        ],
        [
         "1",
         "Startup_2",
         "EdTech",
         "1",
         "247.62",
         "3310.83",
         "75.65",
         "3280",
         "8.1",
         "1",
         "2003",
         "South America",
         "Private"
        ],
        [
         "2",
         "Startup_3",
         "EdTech",
         "1",
         "109.24",
         "1059.37",
         "84.21",
         "4933",
         "2.61",
         "1",
         "1995",
         "South America",
         "Private"
        ],
        [
         "3",
         "Startup_4",
         "Gaming",
         "5",
         "10.75",
         "101.9",
         "47.08",
         "1059",
         "2.53",
         "0",
         "2003",
         "South America",
         "Private"
        ],
        [
         "4",
         "Startup_5",
         "IoT",
         "4",
         "249.28",
         "850.11",
         "50.25",
         "1905",
         "4.09",
         "0",
         "1997",
         "Europe",
         "Acquired"
        ],
        [
         "5",
         "Startup_6",
         "AI",
         "5",
         "103.89",
         "1541.76",
         "12.56",
         "1462",
         "8.96",
         "1",
         "2004",
         "Europe",
         "IPO"
        ],
        [
         "6",
         "Startup_7",
         "Gaming",
         "4",
         "232.26",
         "1039.51",
         "38.6",
         "1404",
         "0.1",
         "0",
         "2016",
         "Australia",
         "Private"
        ],
        [
         "7",
         "Startup_8",
         "HealthTech",
         "5",
         "109.15",
         "630.19",
         "64.37",
         "3420",
         "9.02",
         "1",
         "2002",
         "Australia",
         "IPO"
        ],
        [
         "8",
         "Startup_9",
         "Gaming",
         "5",
         "258.39",
         "935.47",
         "78.06",
         "447",
         "1.62",
         "0",
         "2020",
         "North America",
         "Acquired"
        ],
        [
         "9",
         "Startup_10",
         "FinTech",
         "3",
         "66.24",
         "707.45",
         "21.8",
         "3655",
         "9.9",
         "0",
         "1995",
         "Europe",
         "Private"
        ],
        [
         "10",
         "Startup_11",
         "AI",
         "5",
         "292.38",
         "1665.52",
         "13.87",
         "4657",
         "9.55",
         "0",
         "1994",
         "Europe",
         "Private"
        ],
        [
         "11",
         "Startup_12",
         "FinTech",
         "2",
         "234.04",
         "1207.68",
         "66.34",
         "1183",
         "5.0",
         "0",
         "2011",
         "Europe",
         "Private"
        ],
        [
         "12",
         "Startup_13",
         "IoT",
         "3",
         "34.71",
         "141.02",
         "0.29",
         "4463",
         "5.18",
         "1",
         "2012",
         "Australia",
         "Acquired"
        ],
        [
         "13",
         "Startup_14",
         "Cybersecurity",
         "5",
         "169.95",
         "720.54",
         "17.92",
         "1262",
         "4.87",
         "0",
         "2014",
         "South America",
         "Acquired"
        ],
        [
         "14",
         "Startup_15",
         "FinTech",
         "1",
         "295.62",
         "2960.94",
         "3.0",
         "3639",
         "6.39",
         "1",
         "2015",
         "Asia",
         "Acquired"
        ],
        [
         "15",
         "Startup_16",
         "HealthTech",
         "2",
         "141.58",
         "1593.98",
         "16.77",
         "1846",
         "1.0",
         "1",
         "1994",
         "Australia",
         "Private"
        ],
        [
         "16",
         "Startup_17",
         "Gaming",
         "2",
         "55.04",
         "427.58",
         "18.21",
         "2314",
         "0.42",
         "0",
         "2015",
         "Europe",
         "Private"
        ],
        [
         "17",
         "Startup_18",
         "Cybersecurity",
         "2",
         "145.69",
         "1276.06",
         "38.83",
         "915",
         "0.67",
         "1",
         "2009",
         "Australia",
         "Private"
        ],
        [
         "18",
         "Startup_19",
         "Gaming",
         "3",
         "153.98",
         "1729.44",
         "40.29",
         "4345",
         "4.5",
         "0",
         "1995",
         "North America",
         "Acquired"
        ],
        [
         "19",
         "Startup_20",
         "FinTech",
         "5",
         "222.64",
         "714.35",
         "87.44",
         "4642",
         "2.83",
         "0",
         "1995",
         "Europe",
         "Private"
        ],
        [
         "20",
         "Startup_21",
         "Gaming",
         "5",
         "209.8",
         "1442.91",
         "51.06",
         "4014",
         "6.26",
         "1",
         "2007",
         "North America",
         "Private"
        ],
        [
         "21",
         "Startup_22",
         "IoT",
         "1",
         "121.06",
         "1776.82",
         "72.37",
         "2174",
         "9.93",
         "0",
         "1993",
         "Europe",
         "Private"
        ],
        [
         "22",
         "Startup_23",
         "Cybersecurity",
         "1",
         "65.8",
         "655.46",
         "10.5",
         "2177",
         "3.92",
         "0",
         "2006",
         "Australia",
         "Private"
        ],
        [
         "23",
         "Startup_24",
         "IoT",
         "2",
         "193.69",
         "1171.96",
         "22.62",
         "128",
         "5.78",
         "0",
         "2003",
         "South America",
         "Private"
        ],
        [
         "24",
         "Startup_25",
         "FinTech",
         "1",
         "126.8",
         "1174.26",
         "70.32",
         "3163",
         "4.21",
         "0",
         "2003",
         "Asia",
         "Acquired"
        ],
        [
         "25",
         "Startup_26",
         "IoT",
         "3",
         "40.12",
         "285.33",
         "5.38",
         "790",
         "8.49",
         "1",
         "2002",
         "North America",
         "Acquired"
        ],
        [
         "26",
         "Startup_27",
         "HealthTech",
         "5",
         "270.22",
         "2536.54",
         "48.71",
         "2421",
         "9.03",
         "1",
         "1996",
         "Australia",
         "Private"
        ],
        [
         "27",
         "Startup_28",
         "FinTech",
         "2",
         "207.52",
         "935.69",
         "59.98",
         "801",
         "8.79",
         "1",
         "2004",
         "South America",
         "IPO"
        ],
        [
         "28",
         "Startup_29",
         "FinTech",
         "1",
         "205.11",
         "941.98",
         "60.25",
         "4177",
         "9.75",
         "1",
         "2008",
         "Australia",
         "Acquired"
        ],
        [
         "29",
         "Startup_30",
         "FinTech",
         "3",
         "246.86",
         "1165.8",
         "2.39",
         "4159",
         "0.37",
         "0",
         "2006",
         "North America",
         "Acquired"
        ],
        [
         "30",
         "Startup_31",
         "AI",
         "3",
         "159.13",
         "2272.03",
         "32.28",
         "1941",
         "8.41",
         "0",
         "2008",
         "Asia",
         "Acquired"
        ],
        [
         "31",
         "Startup_32",
         "Gaming",
         "1",
         "244.61",
         "2885.12",
         "63.69",
         "2161",
         "7.54",
         "0",
         "2009",
         "Australia",
         "Private"
        ],
        [
         "32",
         "Startup_33",
         "AI",
         "5",
         "149.68",
         "740.7",
         "14.99",
         "3812",
         "2.36",
         "0",
         "2021",
         "Europe",
         "Private"
        ],
        [
         "33",
         "Startup_34",
         "AI",
         "1",
         "20.62",
         "108.47",
         "69.57",
         "1306",
         "9.57",
         "0",
         "2013",
         "South America",
         "Private"
        ],
        [
         "34",
         "Startup_35",
         "HealthTech",
         "2",
         "121.87",
         "1434.4",
         "74.62",
         "4168",
         "1.57",
         "1",
         "2006",
         "Australia",
         "Private"
        ],
        [
         "35",
         "Startup_36",
         "Cybersecurity",
         "1",
         "149.49",
         "728.61",
         "98.2",
         "3145",
         "6.83",
         "0",
         "1996",
         "South America",
         "Private"
        ],
        [
         "36",
         "Startup_37",
         "Gaming",
         "3",
         "216.2",
         "1257.15",
         "21.06",
         "3241",
         "2.33",
         "0",
         "1990",
         "Europe",
         "Private"
        ],
        [
         "37",
         "Startup_38",
         "IoT",
         "1",
         "32.42",
         "472.04",
         "82.53",
         "2357",
         "4.37",
         "0",
         "2021",
         "Asia",
         "Private"
        ],
        [
         "38",
         "Startup_39",
         "EdTech",
         "5",
         "42.44",
         "257.34",
         "52.08",
         "1937",
         "7.22",
         "1",
         "2002",
         "Asia",
         "Private"
        ],
        [
         "39",
         "Startup_40",
         "FinTech",
         "4",
         "79.47",
         "869.37",
         "37.41",
         "2726",
         "5.68",
         "1",
         "1995",
         "Europe",
         "Acquired"
        ],
        [
         "40",
         "Startup_41",
         "IoT",
         "1",
         "80.32",
         "1184.2",
         "12.33",
         "369",
         "4.33",
         "0",
         "2003",
         "South America",
         "Private"
        ],
        [
         "41",
         "Startup_42",
         "FinTech",
         "5",
         "219.79",
         "1646.57",
         "73.58",
         "4921",
         "3.33",
         "0",
         "2004",
         "Australia",
         "Private"
        ],
        [
         "42",
         "Startup_43",
         "HealthTech",
         "5",
         "75.59",
         "242.66",
         "23.66",
         "2395",
         "8.41",
         "1",
         "1993",
         "Europe",
         "Private"
        ],
        [
         "43",
         "Startup_44",
         "FinTech",
         "3",
         "190.11",
         "1127.31",
         "37.21",
         "951",
         "1.52",
         "0",
         "2005",
         "North America",
         "Private"
        ],
        [
         "44",
         "Startup_45",
         "AI",
         "5",
         "148.54",
         "1926.64",
         "6.35",
         "1382",
         "4.36",
         "0",
         "2017",
         "South America",
         "Private"
        ],
        [
         "45",
         "Startup_46",
         "Gaming",
         "5",
         "172.2",
         "2303.23",
         "80.16",
         "1444",
         "9.05",
         "1",
         "2005",
         "Asia",
         "Private"
        ],
        [
         "46",
         "Startup_47",
         "EdTech",
         "5",
         "251.51",
         "3074.01",
         "76.68",
         "3185",
         "8.47",
         "1",
         "1993",
         "Europe",
         "IPO"
        ],
        [
         "47",
         "Startup_48",
         "E-Commerce",
         "5",
         "121.61",
         "529.89",
         "73.39",
         "4862",
         "4.07",
         "0",
         "2015",
         "Asia",
         "Private"
        ],
        [
         "48",
         "Startup_49",
         "FinTech",
         "2",
         "231.39",
         "2903.05",
         "30.01",
         "345",
         "7.65",
         "1",
         "2017",
         "South America",
         "Private"
        ],
        [
         "49",
         "Startup_50",
         "IoT",
         "2",
         "126.9",
         "1779.66",
         "17.43",
         "2994",
         "8.25",
         "1",
         "2021",
         "Asia",
         "Private"
        ]
       ],
       "shape": {
        "columns": 12,
        "rows": 500
       }
      },
      "text/html": [
       "<div>\n",
       "<style scoped>\n",
       "    .dataframe tbody tr th:only-of-type {\n",
       "        vertical-align: middle;\n",
       "    }\n",
       "\n",
       "    .dataframe tbody tr th {\n",
       "        vertical-align: top;\n",
       "    }\n",
       "\n",
       "    .dataframe thead th {\n",
       "        text-align: right;\n",
       "    }\n",
       "</style>\n",
       "<table border=\"1\" class=\"dataframe\">\n",
       "  <thead>\n",
       "    <tr style=\"text-align: right;\">\n",
       "      <th></th>\n",
       "      <th>Startup Name</th>\n",
       "      <th>Industry</th>\n",
       "      <th>Funding Rounds</th>\n",
       "      <th>Funding Amount (M USD)</th>\n",
       "      <th>Valuation (M USD)</th>\n",
       "      <th>Revenue (M USD)</th>\n",
       "      <th>Employees</th>\n",
       "      <th>Market Share (%)</th>\n",
       "      <th>Profitable</th>\n",
       "      <th>Year Founded</th>\n",
       "      <th>Region</th>\n",
       "      <th>Exit Status</th>\n",
       "    </tr>\n",
       "  </thead>\n",
       "  <tbody>\n",
       "    <tr>\n",
       "      <th>0</th>\n",
       "      <td>Startup_1</td>\n",
       "      <td>IoT</td>\n",
       "      <td>1</td>\n",
       "      <td>101.09</td>\n",
       "      <td>844.75</td>\n",
       "      <td>67.87</td>\n",
       "      <td>1468</td>\n",
       "      <td>5.20</td>\n",
       "      <td>0</td>\n",
       "      <td>2006</td>\n",
       "      <td>Europe</td>\n",
       "      <td>Private</td>\n",
       "    </tr>\n",
       "    <tr>\n",
       "      <th>1</th>\n",
       "      <td>Startup_2</td>\n",
       "      <td>EdTech</td>\n",
       "      <td>1</td>\n",
       "      <td>247.62</td>\n",
       "      <td>3310.83</td>\n",
       "      <td>75.65</td>\n",
       "      <td>3280</td>\n",
       "      <td>8.10</td>\n",
       "      <td>1</td>\n",
       "      <td>2003</td>\n",
       "      <td>South America</td>\n",
       "      <td>Private</td>\n",
       "    </tr>\n",
       "    <tr>\n",
       "      <th>2</th>\n",
       "      <td>Startup_3</td>\n",
       "      <td>EdTech</td>\n",
       "      <td>1</td>\n",
       "      <td>109.24</td>\n",
       "      <td>1059.37</td>\n",
       "      <td>84.21</td>\n",
       "      <td>4933</td>\n",
       "      <td>2.61</td>\n",
       "      <td>1</td>\n",
       "      <td>1995</td>\n",
       "      <td>South America</td>\n",
       "      <td>Private</td>\n",
       "    </tr>\n",
       "    <tr>\n",
       "      <th>3</th>\n",
       "      <td>Startup_4</td>\n",
       "      <td>Gaming</td>\n",
       "      <td>5</td>\n",
       "      <td>10.75</td>\n",
       "      <td>101.90</td>\n",
       "      <td>47.08</td>\n",
       "      <td>1059</td>\n",
       "      <td>2.53</td>\n",
       "      <td>0</td>\n",
       "      <td>2003</td>\n",
       "      <td>South America</td>\n",
       "      <td>Private</td>\n",
       "    </tr>\n",
       "    <tr>\n",
       "      <th>4</th>\n",
       "      <td>Startup_5</td>\n",
       "      <td>IoT</td>\n",
       "      <td>4</td>\n",
       "      <td>249.28</td>\n",
       "      <td>850.11</td>\n",
       "      <td>50.25</td>\n",
       "      <td>1905</td>\n",
       "      <td>4.09</td>\n",
       "      <td>0</td>\n",
       "      <td>1997</td>\n",
       "      <td>Europe</td>\n",
       "      <td>Acquired</td>\n",
       "    </tr>\n",
       "    <tr>\n",
       "      <th>...</th>\n",
       "      <td>...</td>\n",
       "      <td>...</td>\n",
       "      <td>...</td>\n",
       "      <td>...</td>\n",
       "      <td>...</td>\n",
       "      <td>...</td>\n",
       "      <td>...</td>\n",
       "      <td>...</td>\n",
       "      <td>...</td>\n",
       "      <td>...</td>\n",
       "      <td>...</td>\n",
       "      <td>...</td>\n",
       "    </tr>\n",
       "    <tr>\n",
       "      <th>495</th>\n",
       "      <td>Startup_496</td>\n",
       "      <td>EdTech</td>\n",
       "      <td>2</td>\n",
       "      <td>181.86</td>\n",
       "      <td>2378.65</td>\n",
       "      <td>59.64</td>\n",
       "      <td>3331</td>\n",
       "      <td>0.58</td>\n",
       "      <td>1</td>\n",
       "      <td>1993</td>\n",
       "      <td>Europe</td>\n",
       "      <td>Private</td>\n",
       "    </tr>\n",
       "    <tr>\n",
       "      <th>496</th>\n",
       "      <td>Startup_497</td>\n",
       "      <td>AI</td>\n",
       "      <td>2</td>\n",
       "      <td>107.34</td>\n",
       "      <td>1394.58</td>\n",
       "      <td>10.22</td>\n",
       "      <td>2223</td>\n",
       "      <td>5.85</td>\n",
       "      <td>0</td>\n",
       "      <td>2019</td>\n",
       "      <td>South America</td>\n",
       "      <td>Private</td>\n",
       "    </tr>\n",
       "    <tr>\n",
       "      <th>497</th>\n",
       "      <td>Startup_498</td>\n",
       "      <td>E-Commerce</td>\n",
       "      <td>1</td>\n",
       "      <td>160.29</td>\n",
       "      <td>502.09</td>\n",
       "      <td>84.73</td>\n",
       "      <td>2222</td>\n",
       "      <td>4.32</td>\n",
       "      <td>0</td>\n",
       "      <td>2019</td>\n",
       "      <td>Australia</td>\n",
       "      <td>Private</td>\n",
       "    </tr>\n",
       "    <tr>\n",
       "      <th>498</th>\n",
       "      <td>Startup_499</td>\n",
       "      <td>Gaming</td>\n",
       "      <td>5</td>\n",
       "      <td>234.65</td>\n",
       "      <td>2814.52</td>\n",
       "      <td>53.16</td>\n",
       "      <td>4972</td>\n",
       "      <td>5.53</td>\n",
       "      <td>0</td>\n",
       "      <td>2011</td>\n",
       "      <td>Europe</td>\n",
       "      <td>Private</td>\n",
       "    </tr>\n",
       "    <tr>\n",
       "      <th>499</th>\n",
       "      <td>Startup_500</td>\n",
       "      <td>HealthTech</td>\n",
       "      <td>4</td>\n",
       "      <td>211.76</td>\n",
       "      <td>2563.17</td>\n",
       "      <td>84.19</td>\n",
       "      <td>2374</td>\n",
       "      <td>5.26</td>\n",
       "      <td>0</td>\n",
       "      <td>2000</td>\n",
       "      <td>North America</td>\n",
       "      <td>Private</td>\n",
       "    </tr>\n",
       "  </tbody>\n",
       "</table>\n",
       "<p>500 rows × 12 columns</p>\n",
       "</div>"
      ],
      "text/plain": [
       "    Startup Name    Industry  Funding Rounds  Funding Amount (M USD)  \\\n",
       "0      Startup_1         IoT               1                  101.09   \n",
       "1      Startup_2      EdTech               1                  247.62   \n",
       "2      Startup_3      EdTech               1                  109.24   \n",
       "3      Startup_4      Gaming               5                   10.75   \n",
       "4      Startup_5         IoT               4                  249.28   \n",
       "..           ...         ...             ...                     ...   \n",
       "495  Startup_496      EdTech               2                  181.86   \n",
       "496  Startup_497          AI               2                  107.34   \n",
       "497  Startup_498  E-Commerce               1                  160.29   \n",
       "498  Startup_499      Gaming               5                  234.65   \n",
       "499  Startup_500  HealthTech               4                  211.76   \n",
       "\n",
       "     Valuation (M USD)  Revenue (M USD)  Employees  Market Share (%)  \\\n",
       "0               844.75            67.87       1468              5.20   \n",
       "1              3310.83            75.65       3280              8.10   \n",
       "2              1059.37            84.21       4933              2.61   \n",
       "3               101.90            47.08       1059              2.53   \n",
       "4               850.11            50.25       1905              4.09   \n",
       "..                 ...              ...        ...               ...   \n",
       "495            2378.65            59.64       3331              0.58   \n",
       "496            1394.58            10.22       2223              5.85   \n",
       "497             502.09            84.73       2222              4.32   \n",
       "498            2814.52            53.16       4972              5.53   \n",
       "499            2563.17            84.19       2374              5.26   \n",
       "\n",
       "     Profitable  Year Founded         Region Exit Status  \n",
       "0             0          2006         Europe     Private  \n",
       "1             1          2003  South America     Private  \n",
       "2             1          1995  South America     Private  \n",
       "3             0          2003  South America     Private  \n",
       "4             0          1997         Europe    Acquired  \n",
       "..          ...           ...            ...         ...  \n",
       "495           1          1993         Europe     Private  \n",
       "496           0          2019  South America     Private  \n",
       "497           0          2019      Australia     Private  \n",
       "498           0          2011         Europe     Private  \n",
       "499           0          2000  North America     Private  \n",
       "\n",
       "[500 rows x 12 columns]"
      ]
     },
     "execution_count": 2,
     "metadata": {},
     "output_type": "execute_result"
    }
   ],
   "source": [
    "# Chargement  et lecture des données\n",
    "df=pd.read_csv(\"startup_data.csv\")\n",
    "df"
   ]
  },
  {
   "cell_type": "code",
   "execution_count": 3,
   "id": "5bcbeb52",
   "metadata": {},
   "outputs": [
    {
     "name": "stdout",
     "output_type": "stream",
     "text": [
      "Dimensions du dataset: (500, 12)\n"
     ]
    }
   ],
   "source": [
    "# Dimension du dataset\n",
    "print(\"Dimensions du dataset:\", df.shape)"
   ]
  },
  {
   "cell_type": "code",
   "execution_count": 4,
   "id": "d2befbb2",
   "metadata": {},
   "outputs": [
    {
     "name": "stdout",
     "output_type": "stream",
     "text": [
      "<class 'pandas.core.frame.DataFrame'>\n",
      "RangeIndex: 500 entries, 0 to 499\n",
      "Data columns (total 12 columns):\n",
      " #   Column                  Non-Null Count  Dtype  \n",
      "---  ------                  --------------  -----  \n",
      " 0   Startup Name            500 non-null    object \n",
      " 1   Industry                500 non-null    object \n",
      " 2   Funding Rounds          500 non-null    int64  \n",
      " 3   Funding Amount (M USD)  500 non-null    float64\n",
      " 4   Valuation (M USD)       500 non-null    float64\n",
      " 5   Revenue (M USD)         500 non-null    float64\n",
      " 6   Employees               500 non-null    int64  \n",
      " 7   Market Share (%)        500 non-null    float64\n",
      " 8   Profitable              500 non-null    int64  \n",
      " 9   Year Founded            500 non-null    int64  \n",
      " 10  Region                  500 non-null    object \n",
      " 11  Exit Status             500 non-null    object \n",
      "dtypes: float64(4), int64(4), object(4)\n",
      "memory usage: 47.0+ KB\n",
      "Information du dataset: None\n"
     ]
    }
   ],
   "source": [
    "# Information sur le hjeu de données\n",
    "print(\"Information du dataset:\", df.info())"
   ]
  },
  {
   "cell_type": "markdown",
   "id": "8d164738",
   "metadata": {},
   "source": [
    "## Nettoyage des données"
   ]
  },
  {
   "cell_type": "code",
   "execution_count": 5,
   "id": "f046eb36",
   "metadata": {},
   "outputs": [
    {
     "name": "stdout",
     "output_type": "stream",
     "text": [
      "Types des données: Startup Name               object\n",
      "Industry                   object\n",
      "Funding Rounds              int64\n",
      "Funding Amount (M USD)    float64\n",
      "Valuation (M USD)         float64\n",
      "Revenue (M USD)           float64\n",
      "Employees                   int64\n",
      "Market Share (%)          float64\n",
      "Profitable                  int64\n",
      "Year Founded                int64\n",
      "Region                     object\n",
      "Exit Status                object\n",
      "dtype: object\n"
     ]
    }
   ],
   "source": [
    "# Vérification du types des données\n",
    "print(\"Types des données:\", df.dtypes)"
   ]
  },
  {
   "cell_type": "code",
   "execution_count": 6,
   "id": "aaa941d7",
   "metadata": {},
   "outputs": [
    {
     "name": "stdout",
     "output_type": "stream",
     "text": [
      "Valeurs manquantes dans le dataset: \n",
      " Startup Name              0\n",
      "Industry                  0\n",
      "Funding Rounds            0\n",
      "Funding Amount (M USD)    0\n",
      "Valuation (M USD)         0\n",
      "Revenue (M USD)           0\n",
      "Employees                 0\n",
      "Market Share (%)          0\n",
      "Profitable                0\n",
      "Year Founded              0\n",
      "Region                    0\n",
      "Exit Status               0\n",
      "dtype: int64\n"
     ]
    }
   ],
   "source": [
    "# Vérification des valeurs manquantes\n",
    "print(\"Valeurs manquantes dans le dataset: \\n\", df.isnull().sum())"
   ]
  },
  {
   "cell_type": "code",
   "execution_count": 7,
   "id": "f0b2e6dc",
   "metadata": {},
   "outputs": [
    {
     "name": "stdout",
     "output_type": "stream",
     "text": [
      "Nombre de doublons dans le dataset: 0\n"
     ]
    }
   ],
   "source": [
    "# Vérification des doublons\n",
    "print(\"Nombre de doublons dans le dataset:\", df.duplicated().sum())"
   ]
  },
  {
   "cell_type": "markdown",
   "id": "c99a45d8",
   "metadata": {},
   "source": [
    "Les données sont bien typées, il n'y a pas de valeurs manquantes et de doublons.Notre jeu de données est donc propere.\n",
    "Nous pouvons passer à l'analyse exp;loratoire des données."
   ]
  },
  {
   "cell_type": "markdown",
   "id": "4d2b6c9f",
   "metadata": {},
   "source": [
    "# Analyse exploratoire des données."
   ]
  },
  {
   "cell_type": "markdown",
   "id": "2a827c56",
   "metadata": {},
   "source": [
    "## Analyse descriptive globale."
   ]
  },
  {
   "cell_type": "code",
   "execution_count": 8,
   "id": "0050bc9a",
   "metadata": {},
   "outputs": [
    {
     "data": {
      "application/vnd.microsoft.datawrangler.viewer.v0+json": {
       "columns": [
        {
         "name": "index",
         "rawType": "object",
         "type": "string"
        },
        {
         "name": "Funding Rounds",
         "rawType": "float64",
         "type": "float"
        },
        {
         "name": "Funding Amount (M USD)",
         "rawType": "float64",
         "type": "float"
        },
        {
         "name": "Valuation (M USD)",
         "rawType": "float64",
         "type": "float"
        },
        {
         "name": "Revenue (M USD)",
         "rawType": "float64",
         "type": "float"
        },
        {
         "name": "Employees",
         "rawType": "float64",
         "type": "float"
        },
        {
         "name": "Market Share (%)",
         "rawType": "float64",
         "type": "float"
        },
        {
         "name": "Profitable",
         "rawType": "float64",
         "type": "float"
        },
        {
         "name": "Year Founded",
         "rawType": "float64",
         "type": "float"
        }
       ],
       "ref": "a1bcf435-1e79-481b-8528-d4458fd2f69b",
       "rows": [
        [
         "count",
         "500.0",
         "500.0",
         "500.0",
         "500.0",
         "500.0",
         "500.0",
         "500.0",
         "500.0"
        ],
        [
         "mean",
         "2.958",
         "152.65676000000002",
         "1371.8091800000002",
         "49.32174",
         "2532.092",
         "5.0929400000000005",
         "0.432",
         "2006.044"
        ],
        [
         "std",
         "1.4409680001842895",
         "86.68371102471579",
         "978.2265786779623",
         "29.267605029806617",
         "1385.4349206565964",
         "2.8076456515395987",
         "0.4958505172639653",
         "9.347127986884871"
        ],
        [
         "min",
         "1.0",
         "0.57",
         "2.43",
         "0.12",
         "12.0",
         "0.1",
         "0.0",
         "1990.0"
        ],
        [
         "25%",
         "2.0",
         "79.2125",
         "557.0274999999999",
         "22.802500000000002",
         "1382.75",
         "2.76",
         "0.0",
         "1998.0"
        ],
        [
         "50%",
         "3.0",
         "156.005",
         "1222.58",
         "48.8",
         "2496.5",
         "5.135",
         "0.0",
         "2006.0"
        ],
        [
         "75%",
         "4.0",
         "226.45",
         "2052.085",
         "74.965",
         "3708.75",
         "7.5525",
         "1.0",
         "2014.0"
        ],
        [
         "max",
         "5.0",
         "299.81",
         "4357.49",
         "99.71",
         "4984.0",
         "10.0",
         "1.0",
         "2022.0"
        ]
       ],
       "shape": {
        "columns": 8,
        "rows": 8
       }
      },
      "text/html": [
       "<div>\n",
       "<style scoped>\n",
       "    .dataframe tbody tr th:only-of-type {\n",
       "        vertical-align: middle;\n",
       "    }\n",
       "\n",
       "    .dataframe tbody tr th {\n",
       "        vertical-align: top;\n",
       "    }\n",
       "\n",
       "    .dataframe thead th {\n",
       "        text-align: right;\n",
       "    }\n",
       "</style>\n",
       "<table border=\"1\" class=\"dataframe\">\n",
       "  <thead>\n",
       "    <tr style=\"text-align: right;\">\n",
       "      <th></th>\n",
       "      <th>Funding Rounds</th>\n",
       "      <th>Funding Amount (M USD)</th>\n",
       "      <th>Valuation (M USD)</th>\n",
       "      <th>Revenue (M USD)</th>\n",
       "      <th>Employees</th>\n",
       "      <th>Market Share (%)</th>\n",
       "      <th>Profitable</th>\n",
       "      <th>Year Founded</th>\n",
       "    </tr>\n",
       "  </thead>\n",
       "  <tbody>\n",
       "    <tr>\n",
       "      <th>count</th>\n",
       "      <td>500.000000</td>\n",
       "      <td>500.000000</td>\n",
       "      <td>500.000000</td>\n",
       "      <td>500.000000</td>\n",
       "      <td>500.000000</td>\n",
       "      <td>500.000000</td>\n",
       "      <td>500.000000</td>\n",
       "      <td>500.000000</td>\n",
       "    </tr>\n",
       "    <tr>\n",
       "      <th>mean</th>\n",
       "      <td>2.958000</td>\n",
       "      <td>152.656760</td>\n",
       "      <td>1371.809180</td>\n",
       "      <td>49.321740</td>\n",
       "      <td>2532.092000</td>\n",
       "      <td>5.092940</td>\n",
       "      <td>0.432000</td>\n",
       "      <td>2006.044000</td>\n",
       "    </tr>\n",
       "    <tr>\n",
       "      <th>std</th>\n",
       "      <td>1.440968</td>\n",
       "      <td>86.683711</td>\n",
       "      <td>978.226579</td>\n",
       "      <td>29.267605</td>\n",
       "      <td>1385.434921</td>\n",
       "      <td>2.807646</td>\n",
       "      <td>0.495851</td>\n",
       "      <td>9.347128</td>\n",
       "    </tr>\n",
       "    <tr>\n",
       "      <th>min</th>\n",
       "      <td>1.000000</td>\n",
       "      <td>0.570000</td>\n",
       "      <td>2.430000</td>\n",
       "      <td>0.120000</td>\n",
       "      <td>12.000000</td>\n",
       "      <td>0.100000</td>\n",
       "      <td>0.000000</td>\n",
       "      <td>1990.000000</td>\n",
       "    </tr>\n",
       "    <tr>\n",
       "      <th>25%</th>\n",
       "      <td>2.000000</td>\n",
       "      <td>79.212500</td>\n",
       "      <td>557.027500</td>\n",
       "      <td>22.802500</td>\n",
       "      <td>1382.750000</td>\n",
       "      <td>2.760000</td>\n",
       "      <td>0.000000</td>\n",
       "      <td>1998.000000</td>\n",
       "    </tr>\n",
       "    <tr>\n",
       "      <th>50%</th>\n",
       "      <td>3.000000</td>\n",
       "      <td>156.005000</td>\n",
       "      <td>1222.580000</td>\n",
       "      <td>48.800000</td>\n",
       "      <td>2496.500000</td>\n",
       "      <td>5.135000</td>\n",
       "      <td>0.000000</td>\n",
       "      <td>2006.000000</td>\n",
       "    </tr>\n",
       "    <tr>\n",
       "      <th>75%</th>\n",
       "      <td>4.000000</td>\n",
       "      <td>226.450000</td>\n",
       "      <td>2052.085000</td>\n",
       "      <td>74.965000</td>\n",
       "      <td>3708.750000</td>\n",
       "      <td>7.552500</td>\n",
       "      <td>1.000000</td>\n",
       "      <td>2014.000000</td>\n",
       "    </tr>\n",
       "    <tr>\n",
       "      <th>max</th>\n",
       "      <td>5.000000</td>\n",
       "      <td>299.810000</td>\n",
       "      <td>4357.490000</td>\n",
       "      <td>99.710000</td>\n",
       "      <td>4984.000000</td>\n",
       "      <td>10.000000</td>\n",
       "      <td>1.000000</td>\n",
       "      <td>2022.000000</td>\n",
       "    </tr>\n",
       "  </tbody>\n",
       "</table>\n",
       "</div>"
      ],
      "text/plain": [
       "       Funding Rounds  Funding Amount (M USD)  Valuation (M USD)  \\\n",
       "count      500.000000              500.000000         500.000000   \n",
       "mean         2.958000              152.656760        1371.809180   \n",
       "std          1.440968               86.683711         978.226579   \n",
       "min          1.000000                0.570000           2.430000   \n",
       "25%          2.000000               79.212500         557.027500   \n",
       "50%          3.000000              156.005000        1222.580000   \n",
       "75%          4.000000              226.450000        2052.085000   \n",
       "max          5.000000              299.810000        4357.490000   \n",
       "\n",
       "       Revenue (M USD)    Employees  Market Share (%)  Profitable  \\\n",
       "count       500.000000   500.000000        500.000000  500.000000   \n",
       "mean         49.321740  2532.092000          5.092940    0.432000   \n",
       "std          29.267605  1385.434921          2.807646    0.495851   \n",
       "min           0.120000    12.000000          0.100000    0.000000   \n",
       "25%          22.802500  1382.750000          2.760000    0.000000   \n",
       "50%          48.800000  2496.500000          5.135000    0.000000   \n",
       "75%          74.965000  3708.750000          7.552500    1.000000   \n",
       "max          99.710000  4984.000000         10.000000    1.000000   \n",
       "\n",
       "       Year Founded  \n",
       "count    500.000000  \n",
       "mean    2006.044000  \n",
       "std        9.347128  \n",
       "min     1990.000000  \n",
       "25%     1998.000000  \n",
       "50%     2006.000000  \n",
       "75%     2014.000000  \n",
       "max     2022.000000  "
      ]
     },
     "execution_count": 8,
     "metadata": {},
     "output_type": "execute_result"
    }
   ],
   "source": [
    "# Statistiques descriptives \n",
    "df.describe()"
   ]
  },
  {
   "cell_type": "code",
   "execution_count": 9,
   "id": "36557731",
   "metadata": {},
   "outputs": [
    {
     "data": {
      "application/vnd.microsoft.datawrangler.viewer.v0+json": {
       "columns": [
        {
         "name": "index",
         "rawType": "int64",
         "type": "integer"
        },
        {
         "name": "Startup Name",
         "rawType": "object",
         "type": "string"
        },
        {
         "name": "Industry",
         "rawType": "object",
         "type": "string"
        },
        {
         "name": "Funding Rounds",
         "rawType": "int64",
         "type": "integer"
        },
        {
         "name": "Funding Amount (M USD)",
         "rawType": "float64",
         "type": "float"
        },
        {
         "name": "Valuation (M USD)",
         "rawType": "float64",
         "type": "float"
        },
        {
         "name": "Revenue (M USD)",
         "rawType": "float64",
         "type": "float"
        },
        {
         "name": "Employees",
         "rawType": "int64",
         "type": "integer"
        },
        {
         "name": "Market Share (%)",
         "rawType": "float64",
         "type": "float"
        },
        {
         "name": "Profitable",
         "rawType": "int64",
         "type": "integer"
        },
        {
         "name": "Year Founded",
         "rawType": "int64",
         "type": "integer"
        },
        {
         "name": "Region",
         "rawType": "object",
         "type": "string"
        },
        {
         "name": "Exit Status",
         "rawType": "object",
         "type": "string"
        }
       ],
       "ref": "b10bd155-7680-4efd-9f09-d71e75f03b3c",
       "rows": [
        [
         "0",
         "Startup_1",
         "IoT",
         "1",
         "101.09",
         "844.75",
         "67.87",
         "1468",
         "5.2",
         "0",
         "2006",
         "Europe",
         "Private"
        ],
        [
         "1",
         "Startup_2",
         "EdTech",
         "1",
         "247.62",
         "3310.83",
         "75.65",
         "3280",
         "8.1",
         "1",
         "2003",
         "South America",
         "Private"
        ],
        [
         "2",
         "Startup_3",
         "EdTech",
         "1",
         "109.24",
         "1059.37",
         "84.21",
         "4933",
         "2.61",
         "1",
         "1995",
         "South America",
         "Private"
        ],
        [
         "3",
         "Startup_4",
         "Gaming",
         "5",
         "10.75",
         "101.9",
         "47.08",
         "1059",
         "2.53",
         "0",
         "2003",
         "South America",
         "Private"
        ],
        [
         "4",
         "Startup_5",
         "IoT",
         "4",
         "249.28",
         "850.11",
         "50.25",
         "1905",
         "4.09",
         "0",
         "1997",
         "Europe",
         "Acquired"
        ],
        [
         "5",
         "Startup_6",
         "AI",
         "5",
         "103.89",
         "1541.76",
         "12.56",
         "1462",
         "8.96",
         "1",
         "2004",
         "Europe",
         "IPO"
        ],
        [
         "6",
         "Startup_7",
         "Gaming",
         "4",
         "232.26",
         "1039.51",
         "38.6",
         "1404",
         "0.1",
         "0",
         "2016",
         "Australia",
         "Private"
        ],
        [
         "7",
         "Startup_8",
         "HealthTech",
         "5",
         "109.15",
         "630.19",
         "64.37",
         "3420",
         "9.02",
         "1",
         "2002",
         "Australia",
         "IPO"
        ],
        [
         "8",
         "Startup_9",
         "Gaming",
         "5",
         "258.39",
         "935.47",
         "78.06",
         "447",
         "1.62",
         "0",
         "2020",
         "North America",
         "Acquired"
        ],
        [
         "9",
         "Startup_10",
         "FinTech",
         "3",
         "66.24",
         "707.45",
         "21.8",
         "3655",
         "9.9",
         "0",
         "1995",
         "Europe",
         "Private"
        ],
        [
         "10",
         "Startup_11",
         "AI",
         "5",
         "292.38",
         "1665.52",
         "13.87",
         "4657",
         "9.55",
         "0",
         "1994",
         "Europe",
         "Private"
        ],
        [
         "11",
         "Startup_12",
         "FinTech",
         "2",
         "234.04",
         "1207.68",
         "66.34",
         "1183",
         "5.0",
         "0",
         "2011",
         "Europe",
         "Private"
        ],
        [
         "12",
         "Startup_13",
         "IoT",
         "3",
         "34.71",
         "141.02",
         "0.29",
         "4463",
         "5.18",
         "1",
         "2012",
         "Australia",
         "Acquired"
        ],
        [
         "13",
         "Startup_14",
         "Cybersecurity",
         "5",
         "169.95",
         "720.54",
         "17.92",
         "1262",
         "4.87",
         "0",
         "2014",
         "South America",
         "Acquired"
        ],
        [
         "14",
         "Startup_15",
         "FinTech",
         "1",
         "295.62",
         "2960.94",
         "3.0",
         "3639",
         "6.39",
         "1",
         "2015",
         "Asia",
         "Acquired"
        ],
        [
         "15",
         "Startup_16",
         "HealthTech",
         "2",
         "141.58",
         "1593.98",
         "16.77",
         "1846",
         "1.0",
         "1",
         "1994",
         "Australia",
         "Private"
        ],
        [
         "16",
         "Startup_17",
         "Gaming",
         "2",
         "55.04",
         "427.58",
         "18.21",
         "2314",
         "0.42",
         "0",
         "2015",
         "Europe",
         "Private"
        ],
        [
         "17",
         "Startup_18",
         "Cybersecurity",
         "2",
         "145.69",
         "1276.06",
         "38.83",
         "915",
         "0.67",
         "1",
         "2009",
         "Australia",
         "Private"
        ],
        [
         "18",
         "Startup_19",
         "Gaming",
         "3",
         "153.98",
         "1729.44",
         "40.29",
         "4345",
         "4.5",
         "0",
         "1995",
         "North America",
         "Acquired"
        ],
        [
         "19",
         "Startup_20",
         "FinTech",
         "5",
         "222.64",
         "714.35",
         "87.44",
         "4642",
         "2.83",
         "0",
         "1995",
         "Europe",
         "Private"
        ],
        [
         "20",
         "Startup_21",
         "Gaming",
         "5",
         "209.8",
         "1442.91",
         "51.06",
         "4014",
         "6.26",
         "1",
         "2007",
         "North America",
         "Private"
        ],
        [
         "21",
         "Startup_22",
         "IoT",
         "1",
         "121.06",
         "1776.82",
         "72.37",
         "2174",
         "9.93",
         "0",
         "1993",
         "Europe",
         "Private"
        ],
        [
         "22",
         "Startup_23",
         "Cybersecurity",
         "1",
         "65.8",
         "655.46",
         "10.5",
         "2177",
         "3.92",
         "0",
         "2006",
         "Australia",
         "Private"
        ],
        [
         "23",
         "Startup_24",
         "IoT",
         "2",
         "193.69",
         "1171.96",
         "22.62",
         "128",
         "5.78",
         "0",
         "2003",
         "South America",
         "Private"
        ],
        [
         "24",
         "Startup_25",
         "FinTech",
         "1",
         "126.8",
         "1174.26",
         "70.32",
         "3163",
         "4.21",
         "0",
         "2003",
         "Asia",
         "Acquired"
        ],
        [
         "25",
         "Startup_26",
         "IoT",
         "3",
         "40.12",
         "285.33",
         "5.38",
         "790",
         "8.49",
         "1",
         "2002",
         "North America",
         "Acquired"
        ],
        [
         "26",
         "Startup_27",
         "HealthTech",
         "5",
         "270.22",
         "2536.54",
         "48.71",
         "2421",
         "9.03",
         "1",
         "1996",
         "Australia",
         "Private"
        ],
        [
         "27",
         "Startup_28",
         "FinTech",
         "2",
         "207.52",
         "935.69",
         "59.98",
         "801",
         "8.79",
         "1",
         "2004",
         "South America",
         "IPO"
        ],
        [
         "28",
         "Startup_29",
         "FinTech",
         "1",
         "205.11",
         "941.98",
         "60.25",
         "4177",
         "9.75",
         "1",
         "2008",
         "Australia",
         "Acquired"
        ],
        [
         "29",
         "Startup_30",
         "FinTech",
         "3",
         "246.86",
         "1165.8",
         "2.39",
         "4159",
         "0.37",
         "0",
         "2006",
         "North America",
         "Acquired"
        ],
        [
         "30",
         "Startup_31",
         "AI",
         "3",
         "159.13",
         "2272.03",
         "32.28",
         "1941",
         "8.41",
         "0",
         "2008",
         "Asia",
         "Acquired"
        ],
        [
         "31",
         "Startup_32",
         "Gaming",
         "1",
         "244.61",
         "2885.12",
         "63.69",
         "2161",
         "7.54",
         "0",
         "2009",
         "Australia",
         "Private"
        ],
        [
         "32",
         "Startup_33",
         "AI",
         "5",
         "149.68",
         "740.7",
         "14.99",
         "3812",
         "2.36",
         "0",
         "2021",
         "Europe",
         "Private"
        ],
        [
         "33",
         "Startup_34",
         "AI",
         "1",
         "20.62",
         "108.47",
         "69.57",
         "1306",
         "9.57",
         "0",
         "2013",
         "South America",
         "Private"
        ],
        [
         "34",
         "Startup_35",
         "HealthTech",
         "2",
         "121.87",
         "1434.4",
         "74.62",
         "4168",
         "1.57",
         "1",
         "2006",
         "Australia",
         "Private"
        ],
        [
         "35",
         "Startup_36",
         "Cybersecurity",
         "1",
         "149.49",
         "728.61",
         "98.2",
         "3145",
         "6.83",
         "0",
         "1996",
         "South America",
         "Private"
        ],
        [
         "36",
         "Startup_37",
         "Gaming",
         "3",
         "216.2",
         "1257.15",
         "21.06",
         "3241",
         "2.33",
         "0",
         "1990",
         "Europe",
         "Private"
        ],
        [
         "37",
         "Startup_38",
         "IoT",
         "1",
         "32.42",
         "472.04",
         "82.53",
         "2357",
         "4.37",
         "0",
         "2021",
         "Asia",
         "Private"
        ],
        [
         "38",
         "Startup_39",
         "EdTech",
         "5",
         "42.44",
         "257.34",
         "52.08",
         "1937",
         "7.22",
         "1",
         "2002",
         "Asia",
         "Private"
        ],
        [
         "39",
         "Startup_40",
         "FinTech",
         "4",
         "79.47",
         "869.37",
         "37.41",
         "2726",
         "5.68",
         "1",
         "1995",
         "Europe",
         "Acquired"
        ],
        [
         "40",
         "Startup_41",
         "IoT",
         "1",
         "80.32",
         "1184.2",
         "12.33",
         "369",
         "4.33",
         "0",
         "2003",
         "South America",
         "Private"
        ],
        [
         "41",
         "Startup_42",
         "FinTech",
         "5",
         "219.79",
         "1646.57",
         "73.58",
         "4921",
         "3.33",
         "0",
         "2004",
         "Australia",
         "Private"
        ],
        [
         "42",
         "Startup_43",
         "HealthTech",
         "5",
         "75.59",
         "242.66",
         "23.66",
         "2395",
         "8.41",
         "1",
         "1993",
         "Europe",
         "Private"
        ],
        [
         "43",
         "Startup_44",
         "FinTech",
         "3",
         "190.11",
         "1127.31",
         "37.21",
         "951",
         "1.52",
         "0",
         "2005",
         "North America",
         "Private"
        ],
        [
         "44",
         "Startup_45",
         "AI",
         "5",
         "148.54",
         "1926.64",
         "6.35",
         "1382",
         "4.36",
         "0",
         "2017",
         "South America",
         "Private"
        ],
        [
         "45",
         "Startup_46",
         "Gaming",
         "5",
         "172.2",
         "2303.23",
         "80.16",
         "1444",
         "9.05",
         "1",
         "2005",
         "Asia",
         "Private"
        ],
        [
         "46",
         "Startup_47",
         "EdTech",
         "5",
         "251.51",
         "3074.01",
         "76.68",
         "3185",
         "8.47",
         "1",
         "1993",
         "Europe",
         "IPO"
        ],
        [
         "47",
         "Startup_48",
         "E-Commerce",
         "5",
         "121.61",
         "529.89",
         "73.39",
         "4862",
         "4.07",
         "0",
         "2015",
         "Asia",
         "Private"
        ],
        [
         "48",
         "Startup_49",
         "FinTech",
         "2",
         "231.39",
         "2903.05",
         "30.01",
         "345",
         "7.65",
         "1",
         "2017",
         "South America",
         "Private"
        ],
        [
         "49",
         "Startup_50",
         "IoT",
         "2",
         "126.9",
         "1779.66",
         "17.43",
         "2994",
         "8.25",
         "1",
         "2021",
         "Asia",
         "Private"
        ]
       ],
       "shape": {
        "columns": 12,
        "rows": 500
       }
      },
      "text/html": [
       "<div>\n",
       "<style scoped>\n",
       "    .dataframe tbody tr th:only-of-type {\n",
       "        vertical-align: middle;\n",
       "    }\n",
       "\n",
       "    .dataframe tbody tr th {\n",
       "        vertical-align: top;\n",
       "    }\n",
       "\n",
       "    .dataframe thead th {\n",
       "        text-align: right;\n",
       "    }\n",
       "</style>\n",
       "<table border=\"1\" class=\"dataframe\">\n",
       "  <thead>\n",
       "    <tr style=\"text-align: right;\">\n",
       "      <th></th>\n",
       "      <th>Startup Name</th>\n",
       "      <th>Industry</th>\n",
       "      <th>Funding Rounds</th>\n",
       "      <th>Funding Amount (M USD)</th>\n",
       "      <th>Valuation (M USD)</th>\n",
       "      <th>Revenue (M USD)</th>\n",
       "      <th>Employees</th>\n",
       "      <th>Market Share (%)</th>\n",
       "      <th>Profitable</th>\n",
       "      <th>Year Founded</th>\n",
       "      <th>Region</th>\n",
       "      <th>Exit Status</th>\n",
       "    </tr>\n",
       "  </thead>\n",
       "  <tbody>\n",
       "    <tr>\n",
       "      <th>0</th>\n",
       "      <td>Startup_1</td>\n",
       "      <td>IoT</td>\n",
       "      <td>1</td>\n",
       "      <td>101.09</td>\n",
       "      <td>844.75</td>\n",
       "      <td>67.87</td>\n",
       "      <td>1468</td>\n",
       "      <td>5.20</td>\n",
       "      <td>0</td>\n",
       "      <td>2006</td>\n",
       "      <td>Europe</td>\n",
       "      <td>Private</td>\n",
       "    </tr>\n",
       "    <tr>\n",
       "      <th>1</th>\n",
       "      <td>Startup_2</td>\n",
       "      <td>EdTech</td>\n",
       "      <td>1</td>\n",
       "      <td>247.62</td>\n",
       "      <td>3310.83</td>\n",
       "      <td>75.65</td>\n",
       "      <td>3280</td>\n",
       "      <td>8.10</td>\n",
       "      <td>1</td>\n",
       "      <td>2003</td>\n",
       "      <td>South America</td>\n",
       "      <td>Private</td>\n",
       "    </tr>\n",
       "    <tr>\n",
       "      <th>2</th>\n",
       "      <td>Startup_3</td>\n",
       "      <td>EdTech</td>\n",
       "      <td>1</td>\n",
       "      <td>109.24</td>\n",
       "      <td>1059.37</td>\n",
       "      <td>84.21</td>\n",
       "      <td>4933</td>\n",
       "      <td>2.61</td>\n",
       "      <td>1</td>\n",
       "      <td>1995</td>\n",
       "      <td>South America</td>\n",
       "      <td>Private</td>\n",
       "    </tr>\n",
       "    <tr>\n",
       "      <th>3</th>\n",
       "      <td>Startup_4</td>\n",
       "      <td>Gaming</td>\n",
       "      <td>5</td>\n",
       "      <td>10.75</td>\n",
       "      <td>101.90</td>\n",
       "      <td>47.08</td>\n",
       "      <td>1059</td>\n",
       "      <td>2.53</td>\n",
       "      <td>0</td>\n",
       "      <td>2003</td>\n",
       "      <td>South America</td>\n",
       "      <td>Private</td>\n",
       "    </tr>\n",
       "    <tr>\n",
       "      <th>4</th>\n",
       "      <td>Startup_5</td>\n",
       "      <td>IoT</td>\n",
       "      <td>4</td>\n",
       "      <td>249.28</td>\n",
       "      <td>850.11</td>\n",
       "      <td>50.25</td>\n",
       "      <td>1905</td>\n",
       "      <td>4.09</td>\n",
       "      <td>0</td>\n",
       "      <td>1997</td>\n",
       "      <td>Europe</td>\n",
       "      <td>Acquired</td>\n",
       "    </tr>\n",
       "    <tr>\n",
       "      <th>...</th>\n",
       "      <td>...</td>\n",
       "      <td>...</td>\n",
       "      <td>...</td>\n",
       "      <td>...</td>\n",
       "      <td>...</td>\n",
       "      <td>...</td>\n",
       "      <td>...</td>\n",
       "      <td>...</td>\n",
       "      <td>...</td>\n",
       "      <td>...</td>\n",
       "      <td>...</td>\n",
       "      <td>...</td>\n",
       "    </tr>\n",
       "    <tr>\n",
       "      <th>495</th>\n",
       "      <td>Startup_496</td>\n",
       "      <td>EdTech</td>\n",
       "      <td>2</td>\n",
       "      <td>181.86</td>\n",
       "      <td>2378.65</td>\n",
       "      <td>59.64</td>\n",
       "      <td>3331</td>\n",
       "      <td>0.58</td>\n",
       "      <td>1</td>\n",
       "      <td>1993</td>\n",
       "      <td>Europe</td>\n",
       "      <td>Private</td>\n",
       "    </tr>\n",
       "    <tr>\n",
       "      <th>496</th>\n",
       "      <td>Startup_497</td>\n",
       "      <td>AI</td>\n",
       "      <td>2</td>\n",
       "      <td>107.34</td>\n",
       "      <td>1394.58</td>\n",
       "      <td>10.22</td>\n",
       "      <td>2223</td>\n",
       "      <td>5.85</td>\n",
       "      <td>0</td>\n",
       "      <td>2019</td>\n",
       "      <td>South America</td>\n",
       "      <td>Private</td>\n",
       "    </tr>\n",
       "    <tr>\n",
       "      <th>497</th>\n",
       "      <td>Startup_498</td>\n",
       "      <td>E-Commerce</td>\n",
       "      <td>1</td>\n",
       "      <td>160.29</td>\n",
       "      <td>502.09</td>\n",
       "      <td>84.73</td>\n",
       "      <td>2222</td>\n",
       "      <td>4.32</td>\n",
       "      <td>0</td>\n",
       "      <td>2019</td>\n",
       "      <td>Australia</td>\n",
       "      <td>Private</td>\n",
       "    </tr>\n",
       "    <tr>\n",
       "      <th>498</th>\n",
       "      <td>Startup_499</td>\n",
       "      <td>Gaming</td>\n",
       "      <td>5</td>\n",
       "      <td>234.65</td>\n",
       "      <td>2814.52</td>\n",
       "      <td>53.16</td>\n",
       "      <td>4972</td>\n",
       "      <td>5.53</td>\n",
       "      <td>0</td>\n",
       "      <td>2011</td>\n",
       "      <td>Europe</td>\n",
       "      <td>Private</td>\n",
       "    </tr>\n",
       "    <tr>\n",
       "      <th>499</th>\n",
       "      <td>Startup_500</td>\n",
       "      <td>HealthTech</td>\n",
       "      <td>4</td>\n",
       "      <td>211.76</td>\n",
       "      <td>2563.17</td>\n",
       "      <td>84.19</td>\n",
       "      <td>2374</td>\n",
       "      <td>5.26</td>\n",
       "      <td>0</td>\n",
       "      <td>2000</td>\n",
       "      <td>North America</td>\n",
       "      <td>Private</td>\n",
       "    </tr>\n",
       "  </tbody>\n",
       "</table>\n",
       "<p>500 rows × 12 columns</p>\n",
       "</div>"
      ],
      "text/plain": [
       "    Startup Name    Industry  Funding Rounds  Funding Amount (M USD)  \\\n",
       "0      Startup_1         IoT               1                  101.09   \n",
       "1      Startup_2      EdTech               1                  247.62   \n",
       "2      Startup_3      EdTech               1                  109.24   \n",
       "3      Startup_4      Gaming               5                   10.75   \n",
       "4      Startup_5         IoT               4                  249.28   \n",
       "..           ...         ...             ...                     ...   \n",
       "495  Startup_496      EdTech               2                  181.86   \n",
       "496  Startup_497          AI               2                  107.34   \n",
       "497  Startup_498  E-Commerce               1                  160.29   \n",
       "498  Startup_499      Gaming               5                  234.65   \n",
       "499  Startup_500  HealthTech               4                  211.76   \n",
       "\n",
       "     Valuation (M USD)  Revenue (M USD)  Employees  Market Share (%)  \\\n",
       "0               844.75            67.87       1468              5.20   \n",
       "1              3310.83            75.65       3280              8.10   \n",
       "2              1059.37            84.21       4933              2.61   \n",
       "3               101.90            47.08       1059              2.53   \n",
       "4               850.11            50.25       1905              4.09   \n",
       "..                 ...              ...        ...               ...   \n",
       "495            2378.65            59.64       3331              0.58   \n",
       "496            1394.58            10.22       2223              5.85   \n",
       "497             502.09            84.73       2222              4.32   \n",
       "498            2814.52            53.16       4972              5.53   \n",
       "499            2563.17            84.19       2374              5.26   \n",
       "\n",
       "     Profitable  Year Founded         Region Exit Status  \n",
       "0             0          2006         Europe     Private  \n",
       "1             1          2003  South America     Private  \n",
       "2             1          1995  South America     Private  \n",
       "3             0          2003  South America     Private  \n",
       "4             0          1997         Europe    Acquired  \n",
       "..          ...           ...            ...         ...  \n",
       "495           1          1993         Europe     Private  \n",
       "496           0          2019  South America     Private  \n",
       "497           0          2019      Australia     Private  \n",
       "498           0          2011         Europe     Private  \n",
       "499           0          2000  North America     Private  \n",
       "\n",
       "[500 rows x 12 columns]"
      ]
     },
     "execution_count": 9,
     "metadata": {},
     "output_type": "execute_result"
    }
   ],
   "source": [
    "df"
   ]
  },
  {
   "cell_type": "markdown",
   "id": "8a7eb73d",
   "metadata": {},
   "source": [
    "## Analyse descriptive univariée."
   ]
  },
  {
   "cell_type": "code",
   "execution_count": 23,
   "id": "89566e9c",
   "metadata": {},
   "outputs": [],
   "source": [
    "# Création des listes var_num et var_cat contenants respectivement les noms des variables numériques et catégorielles\n",
    "var_num=[\"Funding Rounds\",\"Funding Amount (M USD)\",\n",
    "         \"Valuation (M USD)\",\n",
    "         \"Revenue (M USD)\",\"Employees\", \"Market Share (%)\"\n",
    "        ]\n",
    "var_cat=[\"Region\",\"Exit Status\", \"Industry\", \"Profitable\"\n",
    "         ]"
   ]
  },
  {
   "cell_type": "markdown",
   "id": "f67a6d03",
   "metadata": {},
   "source": [
    "### Analyse descriptive des variables numériques. "
   ]
  },
  {
   "cell_type": "markdown",
   "id": "1fcc2386",
   "metadata": {},
   "source": [
    "#### Histogramme des variables numériques."
   ]
  },
  {
   "cell_type": "code",
   "execution_count": 25,
   "id": "3f56e623",
   "metadata": {},
   "outputs": [
    {
     "data": {
      "image/png": "[encoded data removed]",
      "text/plain": [
       "<Figure size 1800x800 with 6 Axes>"
      ]
     },
     "metadata": {},
     "output_type": "display_data"
    }
   ],
   "source": [
    "fig, axes = plt.subplots(2, 3, figsize=(18, 8))\n",
    "# Aplatir les axes pour itérer facilement\n",
    "axes = axes.flatten()\n",
    "# Créer les histogrammes dans chaque sous-graphe\n",
    "for i, var in enumerate(var_num):\n",
    "    axes[i].hist(df[var], bins=30, color='skyblue', edgecolor='black')\n",
    "    axes[i].set_title(f'Distribution de {var}')\n",
    "    axes[i].set_xlabel(var)\n",
    "    axes[i].set_ylabel('Fréquence')\n",
    "\n",
    "# Ajuster l’espacement entre les subplots\n",
    "plt.tight_layout()\n",
    "plt.show()"
   ]
  },
  {
   "cell_type": "markdown",
   "id": "64135eda",
   "metadata": {},
   "source": [
    "#### Interprétation graphique:\n",
    "- L'histogramme de la distribution de toutes variables quantitatives montre que toutes les modalités des variables quantitatives ont des fréquences casi identiques. Cela suggère une distribution uniforme, où chaque valeur est également représentée dans les données.\n",
    "- Cela informe sur les transformations potentielles (ex. : log) avant la modélisation."
   ]
  },
  {
   "cell_type": "markdown",
   "id": "2c7898b9",
   "metadata": {},
   "source": [
    "### Boxplots (détection des valeurs extrêmes)."
   ]
  },
  {
   "cell_type": "code",
   "execution_count": 26,
   "id": "75cd137a",
   "metadata": {},
   "outputs": [
    {
     "data": {
      "image/png": "[encoded data removed]",
      "text/plain": [
       "<Figure size 1800x800 with 6 Axes>"
      ]
     },
     "metadata": {},
     "output_type": "display_data"
    }
   ],
   "source": [
    "fig, axes = plt.subplots(2, 3, figsize=(18, 8))\n",
    "\n",
    "# Aplatir les axes pour itérer facilement\n",
    "axes = axes.flatten()\n",
    "\n",
    "# Créer les boxplots dans chaque sous-graphe \n",
    "for i, var in enumerate(var_num):\n",
    "    axes[i].boxplot(df[var].dropna(), vert=True, patch_artist=True,\n",
    "                    boxprops=dict(facecolor='lightblue', color='black'),\n",
    "                    medianprops=dict(color='red'))\n",
    "    axes[i].set_title(f'Boxplot de {var}')\n",
    "    axes[i].set_ylabel(var)\n",
    "\n",
    "# Retirer les axes vides s’il y en a\n",
    "for j in range(i+1, len(axes)):\n",
    "    fig.delaxes(axes[j])\n",
    "\n",
    "# Ajuster l’espacement entre les subplots\n",
    "plt.tight_layout()\n",
    "plt.show()"
   ]
  },
  {
   "cell_type": "code",
   "execution_count": 22,
   "id": "e8dad3a5",
   "metadata": {},
   "outputs": [
    {
     "data": {
      "image/png": "[encoded data removed]",
      "text/plain": [
       "<Figure size 800x500 with 1 Axes>"
      ]
     },
     "metadata": {},
     "output_type": "display_data"
    }
   ],
   "source": [
    "plt.figure(figsize=(8, 5))\n",
    "startup_counts_per_year = df['Year Founded'].value_counts().sort_index()\n",
    "sns.lineplot(x=startup_counts_per_year.index, y=startup_counts_per_year.values, marker='o', color='darkred')\n",
    "plt.title('Number of Startups Founded Per Year')\n",
    "plt.xlabel('Year Founded')\n",
    "plt.ylabel('Number of Startups')\n",
    "plt.show()"
   ]
  },
  {
   "cell_type": "markdown",
   "id": "7c225af4",
   "metadata": {},
   "source": [
    "### Analyse descriptive des variables catégorielles."
   ]
  },
  {
   "cell_type": "markdown",
   "id": "b15025cb",
   "metadata": {},
   "source": [
    "#### Statistques globale."
   ]
  },
  {
   "cell_type": "code",
   "execution_count": 17,
   "id": "811b7fae",
   "metadata": {},
   "outputs": [
    {
     "data": {
      "application/vnd.microsoft.datawrangler.viewer.v0+json": {
       "columns": [
        {
         "name": "index",
         "rawType": "object",
         "type": "string"
        },
        {
         "name": "Startup Name",
         "rawType": "object",
         "type": "unknown"
        },
        {
         "name": "Industry",
         "rawType": "object",
         "type": "unknown"
        },
        {
         "name": "Region",
         "rawType": "object",
         "type": "unknown"
        },
        {
         "name": "Exit Status",
         "rawType": "object",
         "type": "unknown"
        }
       ],
       "ref": "ff16990a-7d69-48cc-ac05-ba6ac37bb1f1",
       "rows": [
        [
         "count",
         "500",
         "500",
         "500",
         "500"
        ],
        [
         "unique",
         "500",
         "8",
         "5",
         "3"
        ],
        [
         "top",
         "Startup_500",
         "EdTech",
         "Australia",
         "Private"
        ],
        [
         "freq",
         "1",
         "74",
         "108",
         "348"
        ]
       ],
       "shape": {
        "columns": 4,
        "rows": 4
       }
      },
      "text/html": [
       "<div>\n",
       "<style scoped>\n",
       "    .dataframe tbody tr th:only-of-type {\n",
       "        vertical-align: middle;\n",
       "    }\n",
       "\n",
       "    .dataframe tbody tr th {\n",
       "        vertical-align: top;\n",
       "    }\n",
       "\n",
       "    .dataframe thead th {\n",
       "        text-align: right;\n",
       "    }\n",
       "</style>\n",
       "<table border=\"1\" class=\"dataframe\">\n",
       "  <thead>\n",
       "    <tr style=\"text-align: right;\">\n",
       "      <th></th>\n",
       "      <th>Startup Name</th>\n",
       "      <th>Industry</th>\n",
       "      <th>Region</th>\n",
       "      <th>Exit Status</th>\n",
       "    </tr>\n",
       "  </thead>\n",
       "  <tbody>\n",
       "    <tr>\n",
       "      <th>count</th>\n",
       "      <td>500</td>\n",
       "      <td>500</td>\n",
       "      <td>500</td>\n",
       "      <td>500</td>\n",
       "    </tr>\n",
       "    <tr>\n",
       "      <th>unique</th>\n",
       "      <td>500</td>\n",
       "      <td>8</td>\n",
       "      <td>5</td>\n",
       "      <td>3</td>\n",
       "    </tr>\n",
       "    <tr>\n",
       "      <th>top</th>\n",
       "      <td>Startup_500</td>\n",
       "      <td>EdTech</td>\n",
       "      <td>Australia</td>\n",
       "      <td>Private</td>\n",
       "    </tr>\n",
       "    <tr>\n",
       "      <th>freq</th>\n",
       "      <td>1</td>\n",
       "      <td>74</td>\n",
       "      <td>108</td>\n",
       "      <td>348</td>\n",
       "    </tr>\n",
       "  </tbody>\n",
       "</table>\n",
       "</div>"
      ],
      "text/plain": [
       "       Startup Name Industry     Region Exit Status\n",
       "count           500      500        500         500\n",
       "unique          500        8          5           3\n",
       "top     Startup_500   EdTech  Australia     Private\n",
       "freq              1       74        108         348"
      ]
     },
     "execution_count": 17,
     "metadata": {},
     "output_type": "execute_result"
    }
   ],
   "source": [
    "df.describe(include='object')"
   ]
  },
  {
   "cell_type": "markdown",
   "id": "5dc3aac7",
   "metadata": {},
   "source": [
    "#### Interprétation des résultats:\n",
    "- **Pays**: Nous avons un total de 16 pays dans notre jeu de données et le Nigéria est la modalité la plus observée avec environ 663 observations.\n",
    "- **Tranch_Age**: Au total nous avons 5 tranches d'age et la tranche d'age dominante est celle de 26-35 avec environ 2056 observations.\n",
    "- **Type_Opération**: 3 types d'opérations sont possibles et le plus utilisé est le transfert avec 3359 observations.\n",
    "\n",
    "- **Service_Fintech_Populaire**: Avec un total de 4 modalités, il est dominé par la crypto avec 2573 observations.\n",
    "\n",
    "- **Frein_Adoption**: 4 éléments freinent l'adoption des Fintech, le principal est le manque de formation."
   ]
  },
  {
   "cell_type": "markdown",
   "id": "fe1ba2d8",
   "metadata": {},
   "source": [
    "#### Diagrammes en barres (distribution des modalités)."
   ]
  },
  {
   "cell_type": "code",
   "execution_count": 18,
   "id": "9f8311ad",
   "metadata": {},
   "outputs": [
    {
     "name": "stderr",
     "output_type": "stream",
     "text": [
      "C:\\Users\\HP 840 G3\\AppData\\Local\\Temp\\ipykernel_10776\\478053069.py:8: FutureWarning: \n",
      "\n",
      "Passing `palette` without assigning `hue` is deprecated and will be removed in v0.14.0. Assign the `x` variable to `hue` and set `legend=False` for the same effect.\n",
      "\n",
      "  sns.countplot(data=df, x=col, order=order, palette='viridis', ax=axes[i])\n",
      "C:\\Users\\HP 840 G3\\AppData\\Local\\Temp\\ipykernel_10776\\478053069.py:8: FutureWarning: \n",
      "\n",
      "Passing `palette` without assigning `hue` is deprecated and will be removed in v0.14.0. Assign the `x` variable to `hue` and set `legend=False` for the same effect.\n",
      "\n",
      "  sns.countplot(data=df, x=col, order=order, palette='viridis', ax=axes[i])\n",
      "C:\\Users\\HP 840 G3\\AppData\\Local\\Temp\\ipykernel_10776\\478053069.py:8: FutureWarning: \n",
      "\n",
      "Passing `palette` without assigning `hue` is deprecated and will be removed in v0.14.0. Assign the `x` variable to `hue` and set `legend=False` for the same effect.\n",
      "\n",
      "  sns.countplot(data=df, x=col, order=order, palette='viridis', ax=axes[i])\n"
     ]
    },
    {
     "data": {
      "image/png": "[encoded data removed]",
      "text/plain": [
       "<Figure size 1800x1200 with 3 Axes>"
      ]
     },
     "metadata": {},
     "output_type": "display_data"
    }
   ],
   "source": [
    "# Créer la grille de sous-graphiques\n",
    "fig, axes = plt.subplots(1, 3, figsize=(18, 12))\n",
    "#axes = axes.flatten()  # aplatir pour indexation simple\n",
    "\n",
    "# Tracer chaque graphique dans un axe\n",
    "for i, col in enumerate(var_cat):\n",
    "    order = df[col].value_counts().index\n",
    "    sns.countplot(data=df, x=col, order=order, palette='viridis', ax=axes[i])\n",
    "    axes[i].set_title(f'Distribution de {col}')\n",
    "    axes[i].set_xlabel(col)\n",
    "    axes[i].set_ylabel(\"Occurrences\")\n",
    "    axes[i].tick_params(axis='x', rotation=45)\n",
    "\n",
    "# Supprimer les axes vides s’il y en a\n",
    "for j in range(i + 1, len(axes)):\n",
    "    fig.delaxes(axes[j])\n",
    "\n",
    "plt.tight_layout()\n",
    "plt.show()"
   ]
  },
  {
   "cell_type": "markdown",
   "id": "1bf38cfd",
   "metadata": {},
   "source": [
    "#### Pourcentages des modalités de chaque varaibles catégorielles."
   ]
  },
  {
   "cell_type": "code",
   "execution_count": 19,
   "id": "19727c8b",
   "metadata": {},
   "outputs": [
    {
     "name": "stdout",
     "output_type": "stream",
     "text": [
      "\n",
      " Répartition de la variable : Region\n"
     ]
    },
    {
     "data": {
      "application/vnd.microsoft.datawrangler.viewer.v0+json": {
       "columns": [
        {
         "name": "index",
         "rawType": "int64",
         "type": "integer"
        },
        {
         "name": "Region",
         "rawType": "object",
         "type": "string"
        },
        {
         "name": "Pourcentage (%)",
         "rawType": "float64",
         "type": "float"
        }
       ],
       "ref": "5a41c878-d40e-4871-9be0-bfbe412c6480",
       "rows": [
        [
         "0",
         "Australia",
         "21.6"
        ],
        [
         "1",
         "Asia",
         "20.6"
        ],
        [
         "2",
         "Europe",
         "20.4"
        ],
        [
         "3",
         "North America",
         "19.4"
        ],
        [
         "4",
         "South America",
         "18.0"
        ]
       ],
       "shape": {
        "columns": 2,
        "rows": 5
       }
      },
      "text/html": [
       "<div>\n",
       "<style scoped>\n",
       "    .dataframe tbody tr th:only-of-type {\n",
       "        vertical-align: middle;\n",
       "    }\n",
       "\n",
       "    .dataframe tbody tr th {\n",
       "        vertical-align: top;\n",
       "    }\n",
       "\n",
       "    .dataframe thead th {\n",
       "        text-align: right;\n",
       "    }\n",
       "</style>\n",
       "<table border=\"1\" class=\"dataframe\">\n",
       "  <thead>\n",
       "    <tr style=\"text-align: right;\">\n",
       "      <th></th>\n",
       "      <th>Region</th>\n",
       "      <th>Pourcentage (%)</th>\n",
       "    </tr>\n",
       "  </thead>\n",
       "  <tbody>\n",
       "    <tr>\n",
       "      <th>0</th>\n",
       "      <td>Australia</td>\n",
       "      <td>21.6</td>\n",
       "    </tr>\n",
       "    <tr>\n",
       "      <th>1</th>\n",
       "      <td>Asia</td>\n",
       "      <td>20.6</td>\n",
       "    </tr>\n",
       "    <tr>\n",
       "      <th>2</th>\n",
       "      <td>Europe</td>\n",
       "      <td>20.4</td>\n",
       "    </tr>\n",
       "    <tr>\n",
       "      <th>3</th>\n",
       "      <td>North America</td>\n",
       "      <td>19.4</td>\n",
       "    </tr>\n",
       "    <tr>\n",
       "      <th>4</th>\n",
       "      <td>South America</td>\n",
       "      <td>18.0</td>\n",
       "    </tr>\n",
       "  </tbody>\n",
       "</table>\n",
       "</div>"
      ],
      "text/plain": [
       "          Region  Pourcentage (%)\n",
       "0      Australia             21.6\n",
       "1           Asia             20.6\n",
       "2         Europe             20.4\n",
       "3  North America             19.4\n",
       "4  South America             18.0"
      ]
     },
     "metadata": {},
     "output_type": "display_data"
    },
    {
     "name": "stdout",
     "output_type": "stream",
     "text": [
      "\n",
      " Répartition de la variable : Exit Status\n"
     ]
    },
    {
     "data": {
      "application/vnd.microsoft.datawrangler.viewer.v0+json": {
       "columns": [
        {
         "name": "index",
         "rawType": "int64",
         "type": "integer"
        },
        {
         "name": "Exit Status",
         "rawType": "object",
         "type": "string"
        },
        {
         "name": "Pourcentage (%)",
         "rawType": "float64",
         "type": "float"
        }
       ],
       "ref": "6996e0c2-f874-4b35-8f6d-daea71788e39",
       "rows": [
        [
         "0",
         "Private",
         "69.6"
        ],
        [
         "1",
         "Acquired",
         "21.4"
        ],
        [
         "2",
         "IPO",
         "9.0"
        ]
       ],
       "shape": {
        "columns": 2,
        "rows": 3
       }
      },
      "text/html": [
       "<div>\n",
       "<style scoped>\n",
       "    .dataframe tbody tr th:only-of-type {\n",
       "        vertical-align: middle;\n",
       "    }\n",
       "\n",
       "    .dataframe tbody tr th {\n",
       "        vertical-align: top;\n",
       "    }\n",
       "\n",
       "    .dataframe thead th {\n",
       "        text-align: right;\n",
       "    }\n",
       "</style>\n",
       "<table border=\"1\" class=\"dataframe\">\n",
       "  <thead>\n",
       "    <tr style=\"text-align: right;\">\n",
       "      <th></th>\n",
       "      <th>Exit Status</th>\n",
       "      <th>Pourcentage (%)</th>\n",
       "    </tr>\n",
       "  </thead>\n",
       "  <tbody>\n",
       "    <tr>\n",
       "      <th>0</th>\n",
       "      <td>Private</td>\n",
       "      <td>69.6</td>\n",
       "    </tr>\n",
       "    <tr>\n",
       "      <th>1</th>\n",
       "      <td>Acquired</td>\n",
       "      <td>21.4</td>\n",
       "    </tr>\n",
       "    <tr>\n",
       "      <th>2</th>\n",
       "      <td>IPO</td>\n",
       "      <td>9.0</td>\n",
       "    </tr>\n",
       "  </tbody>\n",
       "</table>\n",
       "</div>"
      ],
      "text/plain": [
       "  Exit Status  Pourcentage (%)\n",
       "0     Private             69.6\n",
       "1    Acquired             21.4\n",
       "2         IPO              9.0"
      ]
     },
     "metadata": {},
     "output_type": "display_data"
    },
    {
     "name": "stdout",
     "output_type": "stream",
     "text": [
      "\n",
      " Répartition de la variable : Industry\n"
     ]
    },
    {
     "data": {
      "application/vnd.microsoft.datawrangler.viewer.v0+json": {
       "columns": [
        {
         "name": "index",
         "rawType": "int64",
         "type": "integer"
        },
        {
         "name": "Industry",
         "rawType": "object",
         "type": "string"
        },
        {
         "name": "Pourcentage (%)",
         "rawType": "float64",
         "type": "float"
        }
       ],
       "ref": "1b021f92-512a-4f35-a50a-0f1710273d4f",
       "rows": [
        [
         "0",
         "EdTech",
         "14.8"
        ],
        [
         "1",
         "FinTech",
         "14.2"
        ],
        [
         "2",
         "E-Commerce",
         "14.0"
        ],
        [
         "3",
         "Gaming",
         "12.4"
        ],
        [
         "4",
         "AI",
         "12.4"
        ],
        [
         "5",
         "IoT",
         "12.2"
        ],
        [
         "6",
         "Cybersecurity",
         "10.2"
        ],
        [
         "7",
         "HealthTech",
         "9.8"
        ]
       ],
       "shape": {
        "columns": 2,
        "rows": 8
       }
      },
      "text/html": [
       "<div>\n",
       "<style scoped>\n",
       "    .dataframe tbody tr th:only-of-type {\n",
       "        vertical-align: middle;\n",
       "    }\n",
       "\n",
       "    .dataframe tbody tr th {\n",
       "        vertical-align: top;\n",
       "    }\n",
       "\n",
       "    .dataframe thead th {\n",
       "        text-align: right;\n",
       "    }\n",
       "</style>\n",
       "<table border=\"1\" class=\"dataframe\">\n",
       "  <thead>\n",
       "    <tr style=\"text-align: right;\">\n",
       "      <th></th>\n",
       "      <th>Industry</th>\n",
       "      <th>Pourcentage (%)</th>\n",
       "    </tr>\n",
       "  </thead>\n",
       "  <tbody>\n",
       "    <tr>\n",
       "      <th>0</th>\n",
       "      <td>EdTech</td>\n",
       "      <td>14.8</td>\n",
       "    </tr>\n",
       "    <tr>\n",
       "      <th>1</th>\n",
       "      <td>FinTech</td>\n",
       "      <td>14.2</td>\n",
       "    </tr>\n",
       "    <tr>\n",
       "      <th>2</th>\n",
       "      <td>E-Commerce</td>\n",
       "      <td>14.0</td>\n",
       "    </tr>\n",
       "    <tr>\n",
       "      <th>3</th>\n",
       "      <td>Gaming</td>\n",
       "      <td>12.4</td>\n",
       "    </tr>\n",
       "    <tr>\n",
       "      <th>4</th>\n",
       "      <td>AI</td>\n",
       "      <td>12.4</td>\n",
       "    </tr>\n",
       "    <tr>\n",
       "      <th>5</th>\n",
       "      <td>IoT</td>\n",
       "      <td>12.2</td>\n",
       "    </tr>\n",
       "    <tr>\n",
       "      <th>6</th>\n",
       "      <td>Cybersecurity</td>\n",
       "      <td>10.2</td>\n",
       "    </tr>\n",
       "    <tr>\n",
       "      <th>7</th>\n",
       "      <td>HealthTech</td>\n",
       "      <td>9.8</td>\n",
       "    </tr>\n",
       "  </tbody>\n",
       "</table>\n",
       "</div>"
      ],
      "text/plain": [
       "        Industry  Pourcentage (%)\n",
       "0         EdTech             14.8\n",
       "1        FinTech             14.2\n",
       "2     E-Commerce             14.0\n",
       "3         Gaming             12.4\n",
       "4             AI             12.4\n",
       "5            IoT             12.2\n",
       "6  Cybersecurity             10.2\n",
       "7     HealthTech              9.8"
      ]
     },
     "metadata": {},
     "output_type": "display_data"
    }
   ],
   "source": [
    "# Dictionnaire pour stocker les tableaux\n",
    "percent_tables = {}\n",
    "# Boucle pour créer un DataFrame par variable catégorielle\n",
    "for col in var_cat:\n",
    "    dist = (df[col].value_counts(normalize=True) * 100).round(2)\n",
    "    table = dist.reset_index()\n",
    "    table.columns = [col, 'Pourcentage (%)']\n",
    "    percent_tables[col] = table\n",
    "\n",
    "# Affichage des tableaux de pourcentages\n",
    "for col, table in percent_tables.items():\n",
    "    print(f\"\\n Répartition de la variable : {col}\")\n",
    "    display(table)"
   ]
  },
  {
   "cell_type": "markdown",
   "id": "1beb7192",
   "metadata": {},
   "source": [
    "#### Interprétation des résultats:\n",
    "L'analyse univariée montre que les différentes modalités des variables catégorielles sont quasiment uniformément réparties, avec des écarts inférieurs à 1 % entre les modalités. Ce type de distribution équilibrée suggère que :\n",
    "\n",
    "- L'échantillon a été bien stratifié ou réparti équitablement entre les catégories ( pays, tranches d’âge, types d’opérations, Service_Fintech_Populaires, Frein_Adoption).\n",
    "- Il n’y a pas de biais de représentation majeur en faveur d’une modalité spécifique, ce qui est favorable pour des analyses comparatives.\n",
    "- Chaque groupe ou modalité dispose de suffisamment d'observations pour permettre des analyses fiables sans nécessité de correction ou de pondération.\n",
    "\n",
    "Cela facilitera l’utilisation de ces variables dans des modèles prédictifs ou des analyses statistiques, notamment :\n",
    "- Tests d’indépendance (chi²),\n",
    "- Analyses multivariées (régression logistique, arbres de décision, etc.),\n",
    "- Visualisations croisées."
   ]
  },
  {
   "cell_type": "markdown",
   "id": "3ea4423a",
   "metadata": {},
   "source": [
    "## Analyse bivariée."
   ]
  },
  {
   "cell_type": "markdown",
   "id": "d9c1a087",
   "metadata": {},
   "source": [
    "### Analyse des relations entre variables numériques. "
   ]
  },
  {
   "cell_type": "code",
   "execution_count": 20,
   "id": "cb2e9246",
   "metadata": {},
   "outputs": [
    {
     "data": {
      "application/vnd.microsoft.datawrangler.viewer.v0+json": {
       "columns": [
        {
         "name": "index",
         "rawType": "int64",
         "type": "integer"
        },
        {
         "name": "Startup Name",
         "rawType": "object",
         "type": "string"
        },
        {
         "name": "Industry",
         "rawType": "object",
         "type": "string"
        },
        {
         "name": "Funding Rounds",
         "rawType": "int64",
         "type": "integer"
        },
        {
         "name": "Funding Amount (M USD)",
         "rawType": "float64",
         "type": "float"
        },
        {
         "name": "Valuation (M USD)",
         "rawType": "float64",
         "type": "float"
        },
        {
         "name": "Revenue (M USD)",
         "rawType": "float64",
         "type": "float"
        },
        {
         "name": "Employees",
         "rawType": "int64",
         "type": "integer"
        },
        {
         "name": "Market Share (%)",
         "rawType": "float64",
         "type": "float"
        },
        {
         "name": "Profitable",
         "rawType": "int64",
         "type": "integer"
        },
        {
         "name": "Year Founded",
         "rawType": "int64",
         "type": "integer"
        },
        {
         "name": "Region",
         "rawType": "object",
         "type": "string"
        },
        {
         "name": "Exit Status",
         "rawType": "object",
         "type": "string"
        }
       ],
       "ref": "d1a7e8bf-bf02-4829-b9b5-6246f9eda2e6",
       "rows": [
        [
         "0",
         "Startup_1",
         "IoT",
         "1",
         "101.09",
         "844.75",
         "67.87",
         "1468",
         "5.2",
         "0",
         "2006",
         "Europe",
         "Private"
        ],
        [
         "1",
         "Startup_2",
         "EdTech",
         "1",
         "247.62",
         "3310.83",
         "75.65",
         "3280",
         "8.1",
         "1",
         "2003",
         "South America",
         "Private"
        ],
        [
         "2",
         "Startup_3",
         "EdTech",
         "1",
         "109.24",
         "1059.37",
         "84.21",
         "4933",
         "2.61",
         "1",
         "1995",
         "South America",
         "Private"
        ],
        [
         "3",
         "Startup_4",
         "Gaming",
         "5",
         "10.75",
         "101.9",
         "47.08",
         "1059",
         "2.53",
         "0",
         "2003",
         "South America",
         "Private"
        ],
        [
         "4",
         "Startup_5",
         "IoT",
         "4",
         "249.28",
         "850.11",
         "50.25",
         "1905",
         "4.09",
         "0",
         "1997",
         "Europe",
         "Acquired"
        ]
       ],
       "shape": {
        "columns": 12,
        "rows": 5
       }
      },
      "text/html": [
       "<div>\n",
       "<style scoped>\n",
       "    .dataframe tbody tr th:only-of-type {\n",
       "        vertical-align: middle;\n",
       "    }\n",
       "\n",
       "    .dataframe tbody tr th {\n",
       "        vertical-align: top;\n",
       "    }\n",
       "\n",
       "    .dataframe thead th {\n",
       "        text-align: right;\n",
       "    }\n",
       "</style>\n",
       "<table border=\"1\" class=\"dataframe\">\n",
       "  <thead>\n",
       "    <tr style=\"text-align: right;\">\n",
       "      <th></th>\n",
       "      <th>Startup Name</th>\n",
       "      <th>Industry</th>\n",
       "      <th>Funding Rounds</th>\n",
       "      <th>Funding Amount (M USD)</th>\n",
       "      <th>Valuation (M USD)</th>\n",
       "      <th>Revenue (M USD)</th>\n",
       "      <th>Employees</th>\n",
       "      <th>Market Share (%)</th>\n",
       "      <th>Profitable</th>\n",
       "      <th>Year Founded</th>\n",
       "      <th>Region</th>\n",
       "      <th>Exit Status</th>\n",
       "    </tr>\n",
       "  </thead>\n",
       "  <tbody>\n",
       "    <tr>\n",
       "      <th>0</th>\n",
       "      <td>Startup_1</td>\n",
       "      <td>IoT</td>\n",
       "      <td>1</td>\n",
       "      <td>101.09</td>\n",
       "      <td>844.75</td>\n",
       "      <td>67.87</td>\n",
       "      <td>1468</td>\n",
       "      <td>5.20</td>\n",
       "      <td>0</td>\n",
       "      <td>2006</td>\n",
       "      <td>Europe</td>\n",
       "      <td>Private</td>\n",
       "    </tr>\n",
       "    <tr>\n",
       "      <th>1</th>\n",
       "      <td>Startup_2</td>\n",
       "      <td>EdTech</td>\n",
       "      <td>1</td>\n",
       "      <td>247.62</td>\n",
       "      <td>3310.83</td>\n",
       "      <td>75.65</td>\n",
       "      <td>3280</td>\n",
       "      <td>8.10</td>\n",
       "      <td>1</td>\n",
       "      <td>2003</td>\n",
       "      <td>South America</td>\n",
       "      <td>Private</td>\n",
       "    </tr>\n",
       "    <tr>\n",
       "      <th>2</th>\n",
       "      <td>Startup_3</td>\n",
       "      <td>EdTech</td>\n",
       "      <td>1</td>\n",
       "      <td>109.24</td>\n",
       "      <td>1059.37</td>\n",
       "      <td>84.21</td>\n",
       "      <td>4933</td>\n",
       "      <td>2.61</td>\n",
       "      <td>1</td>\n",
       "      <td>1995</td>\n",
       "      <td>South America</td>\n",
       "      <td>Private</td>\n",
       "    </tr>\n",
       "    <tr>\n",
       "      <th>3</th>\n",
       "      <td>Startup_4</td>\n",
       "      <td>Gaming</td>\n",
       "      <td>5</td>\n",
       "      <td>10.75</td>\n",
       "      <td>101.90</td>\n",
       "      <td>47.08</td>\n",
       "      <td>1059</td>\n",
       "      <td>2.53</td>\n",
       "      <td>0</td>\n",
       "      <td>2003</td>\n",
       "      <td>South America</td>\n",
       "      <td>Private</td>\n",
       "    </tr>\n",
       "    <tr>\n",
       "      <th>4</th>\n",
       "      <td>Startup_5</td>\n",
       "      <td>IoT</td>\n",
       "      <td>4</td>\n",
       "      <td>249.28</td>\n",
       "      <td>850.11</td>\n",
       "      <td>50.25</td>\n",
       "      <td>1905</td>\n",
       "      <td>4.09</td>\n",
       "      <td>0</td>\n",
       "      <td>1997</td>\n",
       "      <td>Europe</td>\n",
       "      <td>Acquired</td>\n",
       "    </tr>\n",
       "  </tbody>\n",
       "</table>\n",
       "</div>"
      ],
      "text/plain": [
       "  Startup Name Industry  Funding Rounds  Funding Amount (M USD)  \\\n",
       "0    Startup_1      IoT               1                  101.09   \n",
       "1    Startup_2   EdTech               1                  247.62   \n",
       "2    Startup_3   EdTech               1                  109.24   \n",
       "3    Startup_4   Gaming               5                   10.75   \n",
       "4    Startup_5      IoT               4                  249.28   \n",
       "\n",
       "   Valuation (M USD)  Revenue (M USD)  Employees  Market Share (%)  \\\n",
       "0             844.75            67.87       1468              5.20   \n",
       "1            3310.83            75.65       3280              8.10   \n",
       "2            1059.37            84.21       4933              2.61   \n",
       "3             101.90            47.08       1059              2.53   \n",
       "4             850.11            50.25       1905              4.09   \n",
       "\n",
       "   Profitable  Year Founded         Region Exit Status  \n",
       "0           0          2006         Europe     Private  \n",
       "1           1          2003  South America     Private  \n",
       "2           1          1995  South America     Private  \n",
       "3           0          2003  South America     Private  \n",
       "4           0          1997         Europe    Acquired  "
      ]
     },
     "execution_count": 20,
     "metadata": {},
     "output_type": "execute_result"
    }
   ],
   "source": [
    "df.head(5)"
   ]
  },
  {
   "cell_type": "markdown",
   "id": "0b30f8e0",
   "metadata": {},
   "source": [
    "#### Nombre_Utilisateurs VS Volume_Transactions."
   ]
  },
  {
   "cell_type": "code",
   "execution_count": 21,
   "id": "1ea4e70b",
   "metadata": {},
   "outputs": [
    {
     "data": {
      "image/png": "[encoded data removed]",
      "text/plain": [
       "<Figure size 1200x1200 with 2 Axes>"
      ]
     },
     "metadata": {},
     "output_type": "display_data"
    }
   ],
   "source": [
    "# Matrice de corrélation de Pearson\n",
    "spearman_corr = df[var_num].corr()\n",
    "\n",
    "# Affichage de la heatmap\n",
    "plt.figure(figsize=(12, 12))\n",
    "sns.heatmap(spearman_corr, annot=True, fmt=\".2f\", cmap='viridis', square=True)\n",
    "plt.title('Matrice de Corrélation (Pearson)')\n",
    "plt.show()"
   ]
  }
 ],
 "metadata": {
  "kernelspec": {
   "display_name": "Python 3",
   "language": "python",
   "name": "python3"
  },
  "language_info": {
   "codemirror_mode": {
    "name": "ipython",
    "version": 3
   },
   "file_extension": ".py",
   "mimetype": "text/x-python",
   "name": "python",
   "nbconvert_exporter": "python",
   "pygments_lexer": "ipython3",
   "version": "3.11.4"
  }
 },
 "nbformat": 4,
 "nbformat_minor": 5
}
