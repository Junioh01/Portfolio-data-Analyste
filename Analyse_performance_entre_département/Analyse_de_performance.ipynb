{
 "cells": [
  {
   "cell_type": "code",
   "execution_count": 1,
   "id": "a4440770",
   "metadata": {},
   "outputs": [
    {
     "name": "stderr",
     "output_type": "stream",
     "text": [
      "C:\\Users\\HP 840 G3\\AppData\\Roaming\\Python\\Python39\\site-packages\\pandas\\core\\computation\\expressions.py:21: UserWarning: Pandas requires version '2.8.4' or newer of 'numexpr' (version '2.8.3' currently installed).\n",
      "  from pandas.core.computation.check import NUMEXPR_INSTALLED\n",
      "C:\\Users\\HP 840 G3\\AppData\\Roaming\\Python\\Python39\\site-packages\\pandas\\core\\arrays\\masked.py:60: UserWarning: Pandas requires version '1.3.6' or newer of 'bottleneck' (version '1.3.5' currently installed).\n",
      "  from pandas.core import (\n"
     ]
    }
   ],
   "source": [
    "import numpy as np\n",
    "import pandas as pd\n",
    "import seaborn as sns\n",
    "import matplotlib.pyplot as plt\n",
    "import statsmodels.api as sm\n",
    "from scipy.stats import pearsonr\n",
    "from scipy.stats import chi2_contingency\n",
    "import scipy.stats as stats \n",
    "import scipy.stats as st\n",
    "import pingouin as pg\n",
    "from datetime import date\n",
    "from scipy.stats import shapiro, ttest_ind, f_oneway, kruskal, kstest, spearmanr\n"
   ]
  },
  {
   "cell_type": "markdown",
   "id": "a0258dfe",
   "metadata": {},
   "source": [
    "# Projet :"
   ]
  },
  {
   "cell_type": "markdown",
   "id": "35ba27d9",
   "metadata": {},
   "source": [
    "**Analyse des performances**: Analyse de la corrélation entre les scores de performance et des facteurs tels que  le genre, le salaire, nombre d'heures travaillées la taille de l’équipe ou le niveau d’éducation."
   ]
  },
  {
   "cell_type": "markdown",
   "id": "cf191572",
   "metadata": {},
   "source": [
    "# Préparation des données à l'analyse"
   ]
  },
  {
   "cell_type": "markdown",
   "id": "eb3a03c4",
   "metadata": {},
   "source": [
    "## Chargement et inspection des données"
   ]
  },
  {
   "cell_type": "code",
   "execution_count": 2,
   "id": "b272de55",
   "metadata": {},
   "outputs": [
    {
     "name": "stdout",
     "output_type": "stream",
     "text": [
      "\n",
      " Importation des données réussi...\n",
      "\n",
      " La dimension du jeu de données est:(100000, 20)\n",
      "\n",
      " Ensembles des colonnes du jeu de données: ['Employee_ID', 'Department', 'Gender', 'Age', 'Job_Title', 'Hire_Date', 'Years_At_Company', 'Education_Level', 'Performance_Score', 'Monthly_Salary', 'Work_Hours_Per_Week', 'Projects_Handled', 'Overtime_Hours', 'Sick_Days', 'Remote_Work_Frequency', 'Team_Size', 'Training_Hours', 'Promotions', 'Employee_Satisfaction_Score', 'Resigned']\n"
     ]
    },
    {
     "data": {
      "text/html": [
       "<div>\n",
       "<style scoped>\n",
       "    .dataframe tbody tr th:only-of-type {\n",
       "        vertical-align: middle;\n",
       "    }\n",
       "\n",
       "    .dataframe tbody tr th {\n",
       "        vertical-align: top;\n",
       "    }\n",
       "\n",
       "    .dataframe thead th {\n",
       "        text-align: right;\n",
       "    }\n",
       "</style>\n",
       "<table border=\"1\" class=\"dataframe\">\n",
       "  <thead>\n",
       "    <tr style=\"text-align: right;\">\n",
       "      <th></th>\n",
       "      <th>Employee_ID</th>\n",
       "      <th>Department</th>\n",
       "      <th>Gender</th>\n",
       "      <th>Age</th>\n",
       "      <th>Job_Title</th>\n",
       "      <th>Hire_Date</th>\n",
       "      <th>Years_At_Company</th>\n",
       "      <th>Education_Level</th>\n",
       "      <th>Performance_Score</th>\n",
       "      <th>Monthly_Salary</th>\n",
       "      <th>Work_Hours_Per_Week</th>\n",
       "      <th>Projects_Handled</th>\n",
       "      <th>Overtime_Hours</th>\n",
       "      <th>Sick_Days</th>\n",
       "      <th>Remote_Work_Frequency</th>\n",
       "      <th>Team_Size</th>\n",
       "      <th>Training_Hours</th>\n",
       "      <th>Promotions</th>\n",
       "      <th>Employee_Satisfaction_Score</th>\n",
       "      <th>Resigned</th>\n",
       "    </tr>\n",
       "  </thead>\n",
       "  <tbody>\n",
       "    <tr>\n",
       "      <th>0</th>\n",
       "      <td>1</td>\n",
       "      <td>IT</td>\n",
       "      <td>Male</td>\n",
       "      <td>55</td>\n",
       "      <td>Specialist</td>\n",
       "      <td>2022-01-19 08:03:05.556036</td>\n",
       "      <td>2</td>\n",
       "      <td>High School</td>\n",
       "      <td>5</td>\n",
       "      <td>6750.0</td>\n",
       "      <td>33</td>\n",
       "      <td>32</td>\n",
       "      <td>22</td>\n",
       "      <td>2</td>\n",
       "      <td>0</td>\n",
       "      <td>14</td>\n",
       "      <td>66</td>\n",
       "      <td>0</td>\n",
       "      <td>2.63</td>\n",
       "      <td>False</td>\n",
       "    </tr>\n",
       "    <tr>\n",
       "      <th>1</th>\n",
       "      <td>2</td>\n",
       "      <td>Finance</td>\n",
       "      <td>Male</td>\n",
       "      <td>29</td>\n",
       "      <td>Developer</td>\n",
       "      <td>2024-04-18 08:03:05.556036</td>\n",
       "      <td>0</td>\n",
       "      <td>High School</td>\n",
       "      <td>5</td>\n",
       "      <td>7500.0</td>\n",
       "      <td>34</td>\n",
       "      <td>34</td>\n",
       "      <td>13</td>\n",
       "      <td>14</td>\n",
       "      <td>100</td>\n",
       "      <td>12</td>\n",
       "      <td>61</td>\n",
       "      <td>2</td>\n",
       "      <td>1.72</td>\n",
       "      <td>False</td>\n",
       "    </tr>\n",
       "    <tr>\n",
       "      <th>2</th>\n",
       "      <td>3</td>\n",
       "      <td>Finance</td>\n",
       "      <td>Male</td>\n",
       "      <td>55</td>\n",
       "      <td>Specialist</td>\n",
       "      <td>2015-10-26 08:03:05.556036</td>\n",
       "      <td>8</td>\n",
       "      <td>High School</td>\n",
       "      <td>3</td>\n",
       "      <td>5850.0</td>\n",
       "      <td>37</td>\n",
       "      <td>27</td>\n",
       "      <td>6</td>\n",
       "      <td>3</td>\n",
       "      <td>50</td>\n",
       "      <td>10</td>\n",
       "      <td>1</td>\n",
       "      <td>0</td>\n",
       "      <td>3.17</td>\n",
       "      <td>False</td>\n",
       "    </tr>\n",
       "    <tr>\n",
       "      <th>3</th>\n",
       "      <td>4</td>\n",
       "      <td>Customer Support</td>\n",
       "      <td>Female</td>\n",
       "      <td>48</td>\n",
       "      <td>Analyst</td>\n",
       "      <td>2016-10-22 08:03:05.556036</td>\n",
       "      <td>7</td>\n",
       "      <td>Bachelor</td>\n",
       "      <td>2</td>\n",
       "      <td>4800.0</td>\n",
       "      <td>52</td>\n",
       "      <td>10</td>\n",
       "      <td>28</td>\n",
       "      <td>12</td>\n",
       "      <td>100</td>\n",
       "      <td>10</td>\n",
       "      <td>0</td>\n",
       "      <td>1</td>\n",
       "      <td>1.86</td>\n",
       "      <td>False</td>\n",
       "    </tr>\n",
       "    <tr>\n",
       "      <th>4</th>\n",
       "      <td>5</td>\n",
       "      <td>Engineering</td>\n",
       "      <td>Female</td>\n",
       "      <td>36</td>\n",
       "      <td>Analyst</td>\n",
       "      <td>2021-07-23 08:03:05.556036</td>\n",
       "      <td>3</td>\n",
       "      <td>Bachelor</td>\n",
       "      <td>2</td>\n",
       "      <td>4800.0</td>\n",
       "      <td>38</td>\n",
       "      <td>11</td>\n",
       "      <td>29</td>\n",
       "      <td>13</td>\n",
       "      <td>100</td>\n",
       "      <td>15</td>\n",
       "      <td>9</td>\n",
       "      <td>1</td>\n",
       "      <td>1.25</td>\n",
       "      <td>False</td>\n",
       "    </tr>\n",
       "    <tr>\n",
       "      <th>...</th>\n",
       "      <td>...</td>\n",
       "      <td>...</td>\n",
       "      <td>...</td>\n",
       "      <td>...</td>\n",
       "      <td>...</td>\n",
       "      <td>...</td>\n",
       "      <td>...</td>\n",
       "      <td>...</td>\n",
       "      <td>...</td>\n",
       "      <td>...</td>\n",
       "      <td>...</td>\n",
       "      <td>...</td>\n",
       "      <td>...</td>\n",
       "      <td>...</td>\n",
       "      <td>...</td>\n",
       "      <td>...</td>\n",
       "      <td>...</td>\n",
       "      <td>...</td>\n",
       "      <td>...</td>\n",
       "      <td>...</td>\n",
       "    </tr>\n",
       "    <tr>\n",
       "      <th>99995</th>\n",
       "      <td>99996</td>\n",
       "      <td>Finance</td>\n",
       "      <td>Male</td>\n",
       "      <td>27</td>\n",
       "      <td>Technician</td>\n",
       "      <td>2022-12-07 08:03:05.556036</td>\n",
       "      <td>1</td>\n",
       "      <td>Bachelor</td>\n",
       "      <td>4</td>\n",
       "      <td>4900.0</td>\n",
       "      <td>55</td>\n",
       "      <td>46</td>\n",
       "      <td>5</td>\n",
       "      <td>3</td>\n",
       "      <td>75</td>\n",
       "      <td>16</td>\n",
       "      <td>48</td>\n",
       "      <td>2</td>\n",
       "      <td>1.28</td>\n",
       "      <td>False</td>\n",
       "    </tr>\n",
       "    <tr>\n",
       "      <th>99996</th>\n",
       "      <td>99997</td>\n",
       "      <td>IT</td>\n",
       "      <td>Female</td>\n",
       "      <td>36</td>\n",
       "      <td>Consultant</td>\n",
       "      <td>2018-07-24 08:03:05.556036</td>\n",
       "      <td>6</td>\n",
       "      <td>Master</td>\n",
       "      <td>5</td>\n",
       "      <td>8250.0</td>\n",
       "      <td>39</td>\n",
       "      <td>35</td>\n",
       "      <td>7</td>\n",
       "      <td>0</td>\n",
       "      <td>0</td>\n",
       "      <td>10</td>\n",
       "      <td>77</td>\n",
       "      <td>1</td>\n",
       "      <td>3.48</td>\n",
       "      <td>True</td>\n",
       "    </tr>\n",
       "    <tr>\n",
       "      <th>99997</th>\n",
       "      <td>99998</td>\n",
       "      <td>Operations</td>\n",
       "      <td>Male</td>\n",
       "      <td>53</td>\n",
       "      <td>Analyst</td>\n",
       "      <td>2015-11-24 08:03:05.556036</td>\n",
       "      <td>8</td>\n",
       "      <td>High School</td>\n",
       "      <td>2</td>\n",
       "      <td>4800.0</td>\n",
       "      <td>31</td>\n",
       "      <td>13</td>\n",
       "      <td>6</td>\n",
       "      <td>5</td>\n",
       "      <td>0</td>\n",
       "      <td>5</td>\n",
       "      <td>87</td>\n",
       "      <td>1</td>\n",
       "      <td>2.60</td>\n",
       "      <td>False</td>\n",
       "    </tr>\n",
       "    <tr>\n",
       "      <th>99998</th>\n",
       "      <td>99999</td>\n",
       "      <td>HR</td>\n",
       "      <td>Female</td>\n",
       "      <td>22</td>\n",
       "      <td>Consultant</td>\n",
       "      <td>2015-08-03 08:03:05.556036</td>\n",
       "      <td>9</td>\n",
       "      <td>High School</td>\n",
       "      <td>5</td>\n",
       "      <td>8250.0</td>\n",
       "      <td>35</td>\n",
       "      <td>43</td>\n",
       "      <td>10</td>\n",
       "      <td>1</td>\n",
       "      <td>75</td>\n",
       "      <td>2</td>\n",
       "      <td>31</td>\n",
       "      <td>1</td>\n",
       "      <td>3.10</td>\n",
       "      <td>False</td>\n",
       "    </tr>\n",
       "    <tr>\n",
       "      <th>99999</th>\n",
       "      <td>100000</td>\n",
       "      <td>Finance</td>\n",
       "      <td>Female</td>\n",
       "      <td>43</td>\n",
       "      <td>Analyst</td>\n",
       "      <td>2024-03-04 08:03:05.556036</td>\n",
       "      <td>0</td>\n",
       "      <td>PhD</td>\n",
       "      <td>1</td>\n",
       "      <td>4400.0</td>\n",
       "      <td>51</td>\n",
       "      <td>43</td>\n",
       "      <td>27</td>\n",
       "      <td>11</td>\n",
       "      <td>75</td>\n",
       "      <td>13</td>\n",
       "      <td>45</td>\n",
       "      <td>1</td>\n",
       "      <td>2.64</td>\n",
       "      <td>False</td>\n",
       "    </tr>\n",
       "  </tbody>\n",
       "</table>\n",
       "<p>100000 rows × 20 columns</p>\n",
       "</div>"
      ],
      "text/plain": [
       "       Employee_ID        Department  Gender  Age   Job_Title  \\\n",
       "0                1                IT    Male   55  Specialist   \n",
       "1                2           Finance    Male   29   Developer   \n",
       "2                3           Finance    Male   55  Specialist   \n",
       "3                4  Customer Support  Female   48     Analyst   \n",
       "4                5       Engineering  Female   36     Analyst   \n",
       "...            ...               ...     ...  ...         ...   \n",
       "99995        99996           Finance    Male   27  Technician   \n",
       "99996        99997                IT  Female   36  Consultant   \n",
       "99997        99998        Operations    Male   53     Analyst   \n",
       "99998        99999                HR  Female   22  Consultant   \n",
       "99999       100000           Finance  Female   43     Analyst   \n",
       "\n",
       "                        Hire_Date  Years_At_Company Education_Level  \\\n",
       "0      2022-01-19 08:03:05.556036                 2     High School   \n",
       "1      2024-04-18 08:03:05.556036                 0     High School   \n",
       "2      2015-10-26 08:03:05.556036                 8     High School   \n",
       "3      2016-10-22 08:03:05.556036                 7        Bachelor   \n",
       "4      2021-07-23 08:03:05.556036                 3        Bachelor   \n",
       "...                           ...               ...             ...   \n",
       "99995  2022-12-07 08:03:05.556036                 1        Bachelor   \n",
       "99996  2018-07-24 08:03:05.556036                 6          Master   \n",
       "99997  2015-11-24 08:03:05.556036                 8     High School   \n",
       "99998  2015-08-03 08:03:05.556036                 9     High School   \n",
       "99999  2024-03-04 08:03:05.556036                 0             PhD   \n",
       "\n",
       "       Performance_Score  Monthly_Salary  Work_Hours_Per_Week  \\\n",
       "0                      5          6750.0                   33   \n",
       "1                      5          7500.0                   34   \n",
       "2                      3          5850.0                   37   \n",
       "3                      2          4800.0                   52   \n",
       "4                      2          4800.0                   38   \n",
       "...                  ...             ...                  ...   \n",
       "99995                  4          4900.0                   55   \n",
       "99996                  5          8250.0                   39   \n",
       "99997                  2          4800.0                   31   \n",
       "99998                  5          8250.0                   35   \n",
       "99999                  1          4400.0                   51   \n",
       "\n",
       "       Projects_Handled  Overtime_Hours  Sick_Days  Remote_Work_Frequency  \\\n",
       "0                    32              22          2                      0   \n",
       "1                    34              13         14                    100   \n",
       "2                    27               6          3                     50   \n",
       "3                    10              28         12                    100   \n",
       "4                    11              29         13                    100   \n",
       "...                 ...             ...        ...                    ...   \n",
       "99995                46               5          3                     75   \n",
       "99996                35               7          0                      0   \n",
       "99997                13               6          5                      0   \n",
       "99998                43              10          1                     75   \n",
       "99999                43              27         11                     75   \n",
       "\n",
       "       Team_Size  Training_Hours  Promotions  Employee_Satisfaction_Score  \\\n",
       "0             14              66           0                         2.63   \n",
       "1             12              61           2                         1.72   \n",
       "2             10               1           0                         3.17   \n",
       "3             10               0           1                         1.86   \n",
       "4             15               9           1                         1.25   \n",
       "...          ...             ...         ...                          ...   \n",
       "99995         16              48           2                         1.28   \n",
       "99996         10              77           1                         3.48   \n",
       "99997          5              87           1                         2.60   \n",
       "99998          2              31           1                         3.10   \n",
       "99999         13              45           1                         2.64   \n",
       "\n",
       "       Resigned  \n",
       "0         False  \n",
       "1         False  \n",
       "2         False  \n",
       "3         False  \n",
       "4         False  \n",
       "...         ...  \n",
       "99995     False  \n",
       "99996      True  \n",
       "99997     False  \n",
       "99998     False  \n",
       "99999     False  \n",
       "\n",
       "[100000 rows x 20 columns]"
      ]
     },
     "execution_count": 2,
     "metadata": {},
     "output_type": "execute_result"
    }
   ],
   "source": [
    "df=pd.read_csv(\"Extended_Employee_Performance_and_Productivity_Data.csv\")\n",
    "\n",
    "# Création d'une fonction permettant de charger et de d'inspecter les données.\n",
    "def load_data(x):\n",
    "    try :\n",
    "        df=pd.read_csv(x)\n",
    "        print('\\n Importation des données réussi...')\n",
    "        print(f\"\\n La dimension du jeu de données est:{df.shape}\")\n",
    "        print(f\"\\n Ensembles des colonnes du jeu de données: {df.columns.tolist()}\")\n",
    "        return df\n",
    "    except Exception as e:\n",
    "        print(f\"Erreur de chargement: {e}\")\n",
    "        return None\n",
    "              \n",
    "load_data('Extended_Employee_Performance_and_Productivity_Data.csv')"
   ]
  },
  {
   "cell_type": "markdown",
   "id": "aadf40c5",
   "metadata": {},
   "source": [
    "### Nettoyage des données"
   ]
  },
  {
   "cell_type": "code",
   "execution_count": 3,
   "id": "87fab0d8",
   "metadata": {},
   "outputs": [
    {
     "name": "stdout",
     "output_type": "stream",
     "text": [
      "<class 'pandas.core.frame.DataFrame'>\n",
      "RangeIndex: 100000 entries, 0 to 99999\n",
      "Data columns (total 20 columns):\n",
      " #   Column                       Non-Null Count   Dtype  \n",
      "---  ------                       --------------   -----  \n",
      " 0   Employee_ID                  100000 non-null  int64  \n",
      " 1   Department                   100000 non-null  object \n",
      " 2   Gender                       100000 non-null  object \n",
      " 3   Age                          100000 non-null  int64  \n",
      " 4   Job_Title                    100000 non-null  object \n",
      " 5   Hire_Date                    100000 non-null  object \n",
      " 6   Years_At_Company             100000 non-null  int64  \n",
      " 7   Education_Level              100000 non-null  object \n",
      " 8   Performance_Score            100000 non-null  int64  \n",
      " 9   Monthly_Salary               100000 non-null  float64\n",
      " 10  Work_Hours_Per_Week          100000 non-null  int64  \n",
      " 11  Projects_Handled             100000 non-null  int64  \n",
      " 12  Overtime_Hours               100000 non-null  int64  \n",
      " 13  Sick_Days                    100000 non-null  int64  \n",
      " 14  Remote_Work_Frequency        100000 non-null  int64  \n",
      " 15  Team_Size                    100000 non-null  int64  \n",
      " 16  Training_Hours               100000 non-null  int64  \n",
      " 17  Promotions                   100000 non-null  int64  \n",
      " 18  Employee_Satisfaction_Score  100000 non-null  float64\n",
      " 19  Resigned                     100000 non-null  bool   \n",
      "dtypes: bool(1), float64(2), int64(12), object(5)\n",
      "memory usage: 14.6+ MB\n",
      "Information sur le types et le nombre d'éléments par colonne: None\n",
      "\n",
      " Afficharge du nombre de valeurs manquantes par colonne: Employee_ID                    0\n",
      "Department                     0\n",
      "Gender                         0\n",
      "Age                            0\n",
      "Job_Title                      0\n",
      "Hire_Date                      0\n",
      "Years_At_Company               0\n",
      "Education_Level                0\n",
      "Performance_Score              0\n",
      "Monthly_Salary                 0\n",
      "Work_Hours_Per_Week            0\n",
      "Projects_Handled               0\n",
      "Overtime_Hours                 0\n",
      "Sick_Days                      0\n",
      "Remote_Work_Frequency          0\n",
      "Team_Size                      0\n",
      "Training_Hours                 0\n",
      "Promotions                     0\n",
      "Employee_Satisfaction_Score    0\n",
      "Resigned                       0\n",
      "dtype: int64\n",
      "\n",
      " Afficharge du nombre de doublons: 0\n"
     ]
    }
   ],
   "source": [
    "# Recherche des valeurs manquantes et des doublons\n",
    "print(f\"Information sur le types et le nombre d'éléments par colonne: {df.info()}\")\n",
    "print(f\"\\n Afficharge du nombre de valeurs manquantes par colonne: {df.isnull().sum()}\")\n",
    "print(f\"\\n Afficharge du nombre de doublons: {df.duplicated(keep=False).sum()}\")"
   ]
  },
  {
   "cell_type": "markdown",
   "id": "4e4731fd",
   "metadata": {},
   "source": [
    "**Nos données ne contiennent ni de valeurs manquantes, ni de doublons. Par contre le type de certaines variables  telles que:**\n",
    "    \n",
    "**Employee_ID et Hire_Date , necessite d'etre formaté**\n",
    " "
   ]
  },
  {
   "cell_type": "code",
   "execution_count": 4,
   "id": "4cc3cf26",
   "metadata": {},
   "outputs": [],
   "source": [
    "# Correction des erreurs de format\n",
    "df['Hire_Date'] = pd.to_datetime(df['Hire_Date'])  # Convertir en format datetime\n",
    "df['Employee_ID'] = df['Employee_ID'].astype(object)  # Convertir en entier"
   ]
  },
  {
   "cell_type": "code",
   "execution_count": 5,
   "id": "1e53c2a0",
   "metadata": {},
   "outputs": [
    {
     "data": {
      "text/html": [
       "<div>\n",
       "<style scoped>\n",
       "    .dataframe tbody tr th:only-of-type {\n",
       "        vertical-align: middle;\n",
       "    }\n",
       "\n",
       "    .dataframe tbody tr th {\n",
       "        vertical-align: top;\n",
       "    }\n",
       "\n",
       "    .dataframe thead th {\n",
       "        text-align: right;\n",
       "    }\n",
       "</style>\n",
       "<table border=\"1\" class=\"dataframe\">\n",
       "  <thead>\n",
       "    <tr style=\"text-align: right;\">\n",
       "      <th></th>\n",
       "      <th>Employee_ID</th>\n",
       "      <th>Department</th>\n",
       "      <th>Gender</th>\n",
       "      <th>Age</th>\n",
       "      <th>Job_Title</th>\n",
       "      <th>Hire_Date</th>\n",
       "      <th>Years_At_Company</th>\n",
       "      <th>Education_Level</th>\n",
       "      <th>Performance_Score</th>\n",
       "      <th>Monthly_Salary</th>\n",
       "      <th>...</th>\n",
       "      <th>Overtime_Hours</th>\n",
       "      <th>Sick_Days</th>\n",
       "      <th>Remote_Work_Frequency</th>\n",
       "      <th>Team_Size</th>\n",
       "      <th>Training_Hours</th>\n",
       "      <th>Promotions</th>\n",
       "      <th>Employee_Satisfaction_Score</th>\n",
       "      <th>Resigned</th>\n",
       "      <th>date</th>\n",
       "      <th>time</th>\n",
       "    </tr>\n",
       "  </thead>\n",
       "  <tbody>\n",
       "    <tr>\n",
       "      <th>0</th>\n",
       "      <td>1</td>\n",
       "      <td>IT</td>\n",
       "      <td>Male</td>\n",
       "      <td>55</td>\n",
       "      <td>Specialist</td>\n",
       "      <td>2022-01-19 08:03:05.556036</td>\n",
       "      <td>2</td>\n",
       "      <td>High School</td>\n",
       "      <td>5</td>\n",
       "      <td>6750.0</td>\n",
       "      <td>...</td>\n",
       "      <td>22</td>\n",
       "      <td>2</td>\n",
       "      <td>0</td>\n",
       "      <td>14</td>\n",
       "      <td>66</td>\n",
       "      <td>0</td>\n",
       "      <td>2.63</td>\n",
       "      <td>False</td>\n",
       "      <td>2022-01-19</td>\n",
       "      <td>08:03:05.556036</td>\n",
       "    </tr>\n",
       "    <tr>\n",
       "      <th>1</th>\n",
       "      <td>2</td>\n",
       "      <td>Finance</td>\n",
       "      <td>Male</td>\n",
       "      <td>29</td>\n",
       "      <td>Developer</td>\n",
       "      <td>2024-04-18 08:03:05.556036</td>\n",
       "      <td>0</td>\n",
       "      <td>High School</td>\n",
       "      <td>5</td>\n",
       "      <td>7500.0</td>\n",
       "      <td>...</td>\n",
       "      <td>13</td>\n",
       "      <td>14</td>\n",
       "      <td>100</td>\n",
       "      <td>12</td>\n",
       "      <td>61</td>\n",
       "      <td>2</td>\n",
       "      <td>1.72</td>\n",
       "      <td>False</td>\n",
       "      <td>2024-04-18</td>\n",
       "      <td>08:03:05.556036</td>\n",
       "    </tr>\n",
       "    <tr>\n",
       "      <th>2</th>\n",
       "      <td>3</td>\n",
       "      <td>Finance</td>\n",
       "      <td>Male</td>\n",
       "      <td>55</td>\n",
       "      <td>Specialist</td>\n",
       "      <td>2015-10-26 08:03:05.556036</td>\n",
       "      <td>8</td>\n",
       "      <td>High School</td>\n",
       "      <td>3</td>\n",
       "      <td>5850.0</td>\n",
       "      <td>...</td>\n",
       "      <td>6</td>\n",
       "      <td>3</td>\n",
       "      <td>50</td>\n",
       "      <td>10</td>\n",
       "      <td>1</td>\n",
       "      <td>0</td>\n",
       "      <td>3.17</td>\n",
       "      <td>False</td>\n",
       "      <td>2015-10-26</td>\n",
       "      <td>08:03:05.556036</td>\n",
       "    </tr>\n",
       "    <tr>\n",
       "      <th>3</th>\n",
       "      <td>4</td>\n",
       "      <td>Customer Support</td>\n",
       "      <td>Female</td>\n",
       "      <td>48</td>\n",
       "      <td>Analyst</td>\n",
       "      <td>2016-10-22 08:03:05.556036</td>\n",
       "      <td>7</td>\n",
       "      <td>Bachelor</td>\n",
       "      <td>2</td>\n",
       "      <td>4800.0</td>\n",
       "      <td>...</td>\n",
       "      <td>28</td>\n",
       "      <td>12</td>\n",
       "      <td>100</td>\n",
       "      <td>10</td>\n",
       "      <td>0</td>\n",
       "      <td>1</td>\n",
       "      <td>1.86</td>\n",
       "      <td>False</td>\n",
       "      <td>2016-10-22</td>\n",
       "      <td>08:03:05.556036</td>\n",
       "    </tr>\n",
       "    <tr>\n",
       "      <th>4</th>\n",
       "      <td>5</td>\n",
       "      <td>Engineering</td>\n",
       "      <td>Female</td>\n",
       "      <td>36</td>\n",
       "      <td>Analyst</td>\n",
       "      <td>2021-07-23 08:03:05.556036</td>\n",
       "      <td>3</td>\n",
       "      <td>Bachelor</td>\n",
       "      <td>2</td>\n",
       "      <td>4800.0</td>\n",
       "      <td>...</td>\n",
       "      <td>29</td>\n",
       "      <td>13</td>\n",
       "      <td>100</td>\n",
       "      <td>15</td>\n",
       "      <td>9</td>\n",
       "      <td>1</td>\n",
       "      <td>1.25</td>\n",
       "      <td>False</td>\n",
       "      <td>2021-07-23</td>\n",
       "      <td>08:03:05.556036</td>\n",
       "    </tr>\n",
       "    <tr>\n",
       "      <th>...</th>\n",
       "      <td>...</td>\n",
       "      <td>...</td>\n",
       "      <td>...</td>\n",
       "      <td>...</td>\n",
       "      <td>...</td>\n",
       "      <td>...</td>\n",
       "      <td>...</td>\n",
       "      <td>...</td>\n",
       "      <td>...</td>\n",
       "      <td>...</td>\n",
       "      <td>...</td>\n",
       "      <td>...</td>\n",
       "      <td>...</td>\n",
       "      <td>...</td>\n",
       "      <td>...</td>\n",
       "      <td>...</td>\n",
       "      <td>...</td>\n",
       "      <td>...</td>\n",
       "      <td>...</td>\n",
       "      <td>...</td>\n",
       "      <td>...</td>\n",
       "    </tr>\n",
       "    <tr>\n",
       "      <th>99995</th>\n",
       "      <td>99996</td>\n",
       "      <td>Finance</td>\n",
       "      <td>Male</td>\n",
       "      <td>27</td>\n",
       "      <td>Technician</td>\n",
       "      <td>2022-12-07 08:03:05.556036</td>\n",
       "      <td>1</td>\n",
       "      <td>Bachelor</td>\n",
       "      <td>4</td>\n",
       "      <td>4900.0</td>\n",
       "      <td>...</td>\n",
       "      <td>5</td>\n",
       "      <td>3</td>\n",
       "      <td>75</td>\n",
       "      <td>16</td>\n",
       "      <td>48</td>\n",
       "      <td>2</td>\n",
       "      <td>1.28</td>\n",
       "      <td>False</td>\n",
       "      <td>2022-12-07</td>\n",
       "      <td>08:03:05.556036</td>\n",
       "    </tr>\n",
       "    <tr>\n",
       "      <th>99996</th>\n",
       "      <td>99997</td>\n",
       "      <td>IT</td>\n",
       "      <td>Female</td>\n",
       "      <td>36</td>\n",
       "      <td>Consultant</td>\n",
       "      <td>2018-07-24 08:03:05.556036</td>\n",
       "      <td>6</td>\n",
       "      <td>Master</td>\n",
       "      <td>5</td>\n",
       "      <td>8250.0</td>\n",
       "      <td>...</td>\n",
       "      <td>7</td>\n",
       "      <td>0</td>\n",
       "      <td>0</td>\n",
       "      <td>10</td>\n",
       "      <td>77</td>\n",
       "      <td>1</td>\n",
       "      <td>3.48</td>\n",
       "      <td>True</td>\n",
       "      <td>2018-07-24</td>\n",
       "      <td>08:03:05.556036</td>\n",
       "    </tr>\n",
       "    <tr>\n",
       "      <th>99997</th>\n",
       "      <td>99998</td>\n",
       "      <td>Operations</td>\n",
       "      <td>Male</td>\n",
       "      <td>53</td>\n",
       "      <td>Analyst</td>\n",
       "      <td>2015-11-24 08:03:05.556036</td>\n",
       "      <td>8</td>\n",
       "      <td>High School</td>\n",
       "      <td>2</td>\n",
       "      <td>4800.0</td>\n",
       "      <td>...</td>\n",
       "      <td>6</td>\n",
       "      <td>5</td>\n",
       "      <td>0</td>\n",
       "      <td>5</td>\n",
       "      <td>87</td>\n",
       "      <td>1</td>\n",
       "      <td>2.60</td>\n",
       "      <td>False</td>\n",
       "      <td>2015-11-24</td>\n",
       "      <td>08:03:05.556036</td>\n",
       "    </tr>\n",
       "    <tr>\n",
       "      <th>99998</th>\n",
       "      <td>99999</td>\n",
       "      <td>HR</td>\n",
       "      <td>Female</td>\n",
       "      <td>22</td>\n",
       "      <td>Consultant</td>\n",
       "      <td>2015-08-03 08:03:05.556036</td>\n",
       "      <td>9</td>\n",
       "      <td>High School</td>\n",
       "      <td>5</td>\n",
       "      <td>8250.0</td>\n",
       "      <td>...</td>\n",
       "      <td>10</td>\n",
       "      <td>1</td>\n",
       "      <td>75</td>\n",
       "      <td>2</td>\n",
       "      <td>31</td>\n",
       "      <td>1</td>\n",
       "      <td>3.10</td>\n",
       "      <td>False</td>\n",
       "      <td>2015-08-03</td>\n",
       "      <td>08:03:05.556036</td>\n",
       "    </tr>\n",
       "    <tr>\n",
       "      <th>99999</th>\n",
       "      <td>100000</td>\n",
       "      <td>Finance</td>\n",
       "      <td>Female</td>\n",
       "      <td>43</td>\n",
       "      <td>Analyst</td>\n",
       "      <td>2024-03-04 08:03:05.556036</td>\n",
       "      <td>0</td>\n",
       "      <td>PhD</td>\n",
       "      <td>1</td>\n",
       "      <td>4400.0</td>\n",
       "      <td>...</td>\n",
       "      <td>27</td>\n",
       "      <td>11</td>\n",
       "      <td>75</td>\n",
       "      <td>13</td>\n",
       "      <td>45</td>\n",
       "      <td>1</td>\n",
       "      <td>2.64</td>\n",
       "      <td>False</td>\n",
       "      <td>2024-03-04</td>\n",
       "      <td>08:03:05.556036</td>\n",
       "    </tr>\n",
       "  </tbody>\n",
       "</table>\n",
       "<p>100000 rows × 22 columns</p>\n",
       "</div>"
      ],
      "text/plain": [
       "      Employee_ID        Department  Gender  Age   Job_Title  \\\n",
       "0               1                IT    Male   55  Specialist   \n",
       "1               2           Finance    Male   29   Developer   \n",
       "2               3           Finance    Male   55  Specialist   \n",
       "3               4  Customer Support  Female   48     Analyst   \n",
       "4               5       Engineering  Female   36     Analyst   \n",
       "...           ...               ...     ...  ...         ...   \n",
       "99995       99996           Finance    Male   27  Technician   \n",
       "99996       99997                IT  Female   36  Consultant   \n",
       "99997       99998        Operations    Male   53     Analyst   \n",
       "99998       99999                HR  Female   22  Consultant   \n",
       "99999      100000           Finance  Female   43     Analyst   \n",
       "\n",
       "                       Hire_Date  Years_At_Company Education_Level  \\\n",
       "0     2022-01-19 08:03:05.556036                 2     High School   \n",
       "1     2024-04-18 08:03:05.556036                 0     High School   \n",
       "2     2015-10-26 08:03:05.556036                 8     High School   \n",
       "3     2016-10-22 08:03:05.556036                 7        Bachelor   \n",
       "4     2021-07-23 08:03:05.556036                 3        Bachelor   \n",
       "...                          ...               ...             ...   \n",
       "99995 2022-12-07 08:03:05.556036                 1        Bachelor   \n",
       "99996 2018-07-24 08:03:05.556036                 6          Master   \n",
       "99997 2015-11-24 08:03:05.556036                 8     High School   \n",
       "99998 2015-08-03 08:03:05.556036                 9     High School   \n",
       "99999 2024-03-04 08:03:05.556036                 0             PhD   \n",
       "\n",
       "       Performance_Score  Monthly_Salary  ...  Overtime_Hours  Sick_Days  \\\n",
       "0                      5          6750.0  ...              22          2   \n",
       "1                      5          7500.0  ...              13         14   \n",
       "2                      3          5850.0  ...               6          3   \n",
       "3                      2          4800.0  ...              28         12   \n",
       "4                      2          4800.0  ...              29         13   \n",
       "...                  ...             ...  ...             ...        ...   \n",
       "99995                  4          4900.0  ...               5          3   \n",
       "99996                  5          8250.0  ...               7          0   \n",
       "99997                  2          4800.0  ...               6          5   \n",
       "99998                  5          8250.0  ...              10          1   \n",
       "99999                  1          4400.0  ...              27         11   \n",
       "\n",
       "       Remote_Work_Frequency  Team_Size  Training_Hours  Promotions  \\\n",
       "0                          0         14              66           0   \n",
       "1                        100         12              61           2   \n",
       "2                         50         10               1           0   \n",
       "3                        100         10               0           1   \n",
       "4                        100         15               9           1   \n",
       "...                      ...        ...             ...         ...   \n",
       "99995                     75         16              48           2   \n",
       "99996                      0         10              77           1   \n",
       "99997                      0          5              87           1   \n",
       "99998                     75          2              31           1   \n",
       "99999                     75         13              45           1   \n",
       "\n",
       "       Employee_Satisfaction_Score  Resigned        date             time  \n",
       "0                             2.63     False  2022-01-19  08:03:05.556036  \n",
       "1                             1.72     False  2024-04-18  08:03:05.556036  \n",
       "2                             3.17     False  2015-10-26  08:03:05.556036  \n",
       "3                             1.86     False  2016-10-22  08:03:05.556036  \n",
       "4                             1.25     False  2021-07-23  08:03:05.556036  \n",
       "...                            ...       ...         ...              ...  \n",
       "99995                         1.28     False  2022-12-07  08:03:05.556036  \n",
       "99996                         3.48      True  2018-07-24  08:03:05.556036  \n",
       "99997                         2.60     False  2015-11-24  08:03:05.556036  \n",
       "99998                         3.10     False  2015-08-03  08:03:05.556036  \n",
       "99999                         2.64     False  2024-03-04  08:03:05.556036  \n",
       "\n",
       "[100000 rows x 22 columns]"
      ]
     },
     "execution_count": 5,
     "metadata": {},
     "output_type": "execute_result"
    }
   ],
   "source": [
    "# Séparer la date et l'heure\n",
    "df['date'] = df['Hire_Date'].dt.date # Extraire la date\n",
    "df['time'] = df['Hire_Date'].dt.time  # Extraire l'heure\n",
    "df"
   ]
  },
  {
   "cell_type": "code",
   "execution_count": 6,
   "id": "257f9b0e",
   "metadata": {},
   "outputs": [],
   "source": [
    "# Suppression de la colonne Hire_Date \n",
    "df=df.drop([\"Hire_Date\"], axis=1)\n"
   ]
  },
  {
   "cell_type": "code",
   "execution_count": 7,
   "id": "d398e84c",
   "metadata": {},
   "outputs": [
    {
     "data": {
      "text/html": [
       "<div>\n",
       "<style scoped>\n",
       "    .dataframe tbody tr th:only-of-type {\n",
       "        vertical-align: middle;\n",
       "    }\n",
       "\n",
       "    .dataframe tbody tr th {\n",
       "        vertical-align: top;\n",
       "    }\n",
       "\n",
       "    .dataframe thead th {\n",
       "        text-align: right;\n",
       "    }\n",
       "</style>\n",
       "<table border=\"1\" class=\"dataframe\">\n",
       "  <thead>\n",
       "    <tr style=\"text-align: right;\">\n",
       "      <th></th>\n",
       "      <th>Age</th>\n",
       "      <th>Years_At_Company</th>\n",
       "      <th>Performance_Score</th>\n",
       "      <th>Monthly_Salary</th>\n",
       "      <th>Work_Hours_Per_Week</th>\n",
       "      <th>Projects_Handled</th>\n",
       "      <th>Overtime_Hours</th>\n",
       "      <th>Sick_Days</th>\n",
       "      <th>Remote_Work_Frequency</th>\n",
       "      <th>Team_Size</th>\n",
       "      <th>Training_Hours</th>\n",
       "      <th>Promotions</th>\n",
       "      <th>Employee_Satisfaction_Score</th>\n",
       "    </tr>\n",
       "  </thead>\n",
       "  <tbody>\n",
       "    <tr>\n",
       "      <th>count</th>\n",
       "      <td>100000.000000</td>\n",
       "      <td>100000.000000</td>\n",
       "      <td>100000.000000</td>\n",
       "      <td>100000.000000</td>\n",
       "      <td>100000.000000</td>\n",
       "      <td>100000.000000</td>\n",
       "      <td>100000.000000</td>\n",
       "      <td>100000.000000</td>\n",
       "      <td>100000.000000</td>\n",
       "      <td>100000.000000</td>\n",
       "      <td>100000.000000</td>\n",
       "      <td>100000.000000</td>\n",
       "      <td>100000.000000</td>\n",
       "    </tr>\n",
       "    <tr>\n",
       "      <th>mean</th>\n",
       "      <td>41.029410</td>\n",
       "      <td>4.476070</td>\n",
       "      <td>2.995430</td>\n",
       "      <td>6403.211000</td>\n",
       "      <td>44.956950</td>\n",
       "      <td>24.431170</td>\n",
       "      <td>14.514930</td>\n",
       "      <td>7.008550</td>\n",
       "      <td>50.090500</td>\n",
       "      <td>10.013560</td>\n",
       "      <td>49.506060</td>\n",
       "      <td>0.999720</td>\n",
       "      <td>2.999088</td>\n",
       "    </tr>\n",
       "    <tr>\n",
       "      <th>std</th>\n",
       "      <td>11.244121</td>\n",
       "      <td>2.869336</td>\n",
       "      <td>1.414726</td>\n",
       "      <td>1372.508717</td>\n",
       "      <td>8.942003</td>\n",
       "      <td>14.469584</td>\n",
       "      <td>8.664026</td>\n",
       "      <td>4.331591</td>\n",
       "      <td>35.351157</td>\n",
       "      <td>5.495405</td>\n",
       "      <td>28.890383</td>\n",
       "      <td>0.815872</td>\n",
       "      <td>1.150719</td>\n",
       "    </tr>\n",
       "    <tr>\n",
       "      <th>min</th>\n",
       "      <td>22.000000</td>\n",
       "      <td>0.000000</td>\n",
       "      <td>1.000000</td>\n",
       "      <td>3850.000000</td>\n",
       "      <td>30.000000</td>\n",
       "      <td>0.000000</td>\n",
       "      <td>0.000000</td>\n",
       "      <td>0.000000</td>\n",
       "      <td>0.000000</td>\n",
       "      <td>1.000000</td>\n",
       "      <td>0.000000</td>\n",
       "      <td>0.000000</td>\n",
       "      <td>1.000000</td>\n",
       "    </tr>\n",
       "    <tr>\n",
       "      <th>25%</th>\n",
       "      <td>31.000000</td>\n",
       "      <td>2.000000</td>\n",
       "      <td>2.000000</td>\n",
       "      <td>5250.000000</td>\n",
       "      <td>37.000000</td>\n",
       "      <td>12.000000</td>\n",
       "      <td>7.000000</td>\n",
       "      <td>3.000000</td>\n",
       "      <td>25.000000</td>\n",
       "      <td>5.000000</td>\n",
       "      <td>25.000000</td>\n",
       "      <td>0.000000</td>\n",
       "      <td>2.010000</td>\n",
       "    </tr>\n",
       "    <tr>\n",
       "      <th>50%</th>\n",
       "      <td>41.000000</td>\n",
       "      <td>4.000000</td>\n",
       "      <td>3.000000</td>\n",
       "      <td>6500.000000</td>\n",
       "      <td>45.000000</td>\n",
       "      <td>24.000000</td>\n",
       "      <td>15.000000</td>\n",
       "      <td>7.000000</td>\n",
       "      <td>50.000000</td>\n",
       "      <td>10.000000</td>\n",
       "      <td>49.000000</td>\n",
       "      <td>1.000000</td>\n",
       "      <td>3.000000</td>\n",
       "    </tr>\n",
       "    <tr>\n",
       "      <th>75%</th>\n",
       "      <td>51.000000</td>\n",
       "      <td>7.000000</td>\n",
       "      <td>4.000000</td>\n",
       "      <td>7500.000000</td>\n",
       "      <td>53.000000</td>\n",
       "      <td>37.000000</td>\n",
       "      <td>22.000000</td>\n",
       "      <td>11.000000</td>\n",
       "      <td>75.000000</td>\n",
       "      <td>15.000000</td>\n",
       "      <td>75.000000</td>\n",
       "      <td>2.000000</td>\n",
       "      <td>3.990000</td>\n",
       "    </tr>\n",
       "    <tr>\n",
       "      <th>max</th>\n",
       "      <td>60.000000</td>\n",
       "      <td>10.000000</td>\n",
       "      <td>5.000000</td>\n",
       "      <td>9000.000000</td>\n",
       "      <td>60.000000</td>\n",
       "      <td>49.000000</td>\n",
       "      <td>29.000000</td>\n",
       "      <td>14.000000</td>\n",
       "      <td>100.000000</td>\n",
       "      <td>19.000000</td>\n",
       "      <td>99.000000</td>\n",
       "      <td>2.000000</td>\n",
       "      <td>5.000000</td>\n",
       "    </tr>\n",
       "  </tbody>\n",
       "</table>\n",
       "</div>"
      ],
      "text/plain": [
       "                 Age  Years_At_Company  Performance_Score  Monthly_Salary  \\\n",
       "count  100000.000000     100000.000000      100000.000000   100000.000000   \n",
       "mean       41.029410          4.476070           2.995430     6403.211000   \n",
       "std        11.244121          2.869336           1.414726     1372.508717   \n",
       "min        22.000000          0.000000           1.000000     3850.000000   \n",
       "25%        31.000000          2.000000           2.000000     5250.000000   \n",
       "50%        41.000000          4.000000           3.000000     6500.000000   \n",
       "75%        51.000000          7.000000           4.000000     7500.000000   \n",
       "max        60.000000         10.000000           5.000000     9000.000000   \n",
       "\n",
       "       Work_Hours_Per_Week  Projects_Handled  Overtime_Hours      Sick_Days  \\\n",
       "count        100000.000000     100000.000000   100000.000000  100000.000000   \n",
       "mean             44.956950         24.431170       14.514930       7.008550   \n",
       "std               8.942003         14.469584        8.664026       4.331591   \n",
       "min              30.000000          0.000000        0.000000       0.000000   \n",
       "25%              37.000000         12.000000        7.000000       3.000000   \n",
       "50%              45.000000         24.000000       15.000000       7.000000   \n",
       "75%              53.000000         37.000000       22.000000      11.000000   \n",
       "max              60.000000         49.000000       29.000000      14.000000   \n",
       "\n",
       "       Remote_Work_Frequency      Team_Size  Training_Hours     Promotions  \\\n",
       "count          100000.000000  100000.000000   100000.000000  100000.000000   \n",
       "mean               50.090500      10.013560       49.506060       0.999720   \n",
       "std                35.351157       5.495405       28.890383       0.815872   \n",
       "min                 0.000000       1.000000        0.000000       0.000000   \n",
       "25%                25.000000       5.000000       25.000000       0.000000   \n",
       "50%                50.000000      10.000000       49.000000       1.000000   \n",
       "75%                75.000000      15.000000       75.000000       2.000000   \n",
       "max               100.000000      19.000000       99.000000       2.000000   \n",
       "\n",
       "       Employee_Satisfaction_Score  \n",
       "count                100000.000000  \n",
       "mean                      2.999088  \n",
       "std                       1.150719  \n",
       "min                       1.000000  \n",
       "25%                       2.010000  \n",
       "50%                       3.000000  \n",
       "75%                       3.990000  \n",
       "max                       5.000000  "
      ]
     },
     "execution_count": 7,
     "metadata": {},
     "output_type": "execute_result"
    }
   ],
   "source": [
    "# Statistique descriptive sur les données\n",
    "df.describe()"
   ]
  },
  {
   "cell_type": "markdown",
   "id": "ef87731b",
   "metadata": {},
   "source": [
    "#  Analyse des corrélations."
   ]
  },
  {
   "cell_type": "markdown",
   "id": "8db0c62d",
   "metadata": {},
   "source": [
    "## Analyse de la relation entre le score de performance et le niveau d'étude."
   ]
  },
  {
   "cell_type": "code",
   "execution_count": 8,
   "id": "5afeb688",
   "metadata": {},
   "outputs": [
    {
     "data": {
      "image/png": "[encoded data removed]",
      "text/plain": [
       "<Figure size 800x600 with 1 Axes>"
      ]
     },
     "metadata": {},
     "output_type": "display_data"
    }
   ],
   "source": [
    "# Analyse graphique\n",
    "plt.figure(figsize=(8,6))\n",
    "sns.boxplot(x='Education_Level', y='Performance_Score', data=df)\n",
    "plt.ylabel(\" Score de performance\")\n",
    "plt.xlabel(\"Niveau d'étude\")\n",
    "plt.title(\" Score de performance par Niveau d'étude\")\n",
    "plt.show()"
   ]
  },
  {
   "cell_type": "code",
   "execution_count": 9,
   "id": "10fd8107",
   "metadata": {},
   "outputs": [
    {
     "data": {
      "text/html": [
       "<div>\n",
       "<style scoped>\n",
       "    .dataframe tbody tr th:only-of-type {\n",
       "        vertical-align: middle;\n",
       "    }\n",
       "\n",
       "    .dataframe tbody tr th {\n",
       "        vertical-align: top;\n",
       "    }\n",
       "\n",
       "    .dataframe thead th {\n",
       "        text-align: right;\n",
       "    }\n",
       "</style>\n",
       "<table border=\"1\" class=\"dataframe\">\n",
       "  <thead>\n",
       "    <tr style=\"text-align: right;\">\n",
       "      <th></th>\n",
       "      <th>Education_Level</th>\n",
       "      <th>Performance_Score</th>\n",
       "      <th>Nbre_total_Emp</th>\n",
       "    </tr>\n",
       "  </thead>\n",
       "  <tbody>\n",
       "    <tr>\n",
       "      <th>0</th>\n",
       "      <td>Bachelor</td>\n",
       "      <td>1</td>\n",
       "      <td>10127</td>\n",
       "    </tr>\n",
       "    <tr>\n",
       "      <th>1</th>\n",
       "      <td>Bachelor</td>\n",
       "      <td>2</td>\n",
       "      <td>10119</td>\n",
       "    </tr>\n",
       "    <tr>\n",
       "      <th>2</th>\n",
       "      <td>Bachelor</td>\n",
       "      <td>3</td>\n",
       "      <td>10035</td>\n",
       "    </tr>\n",
       "    <tr>\n",
       "      <th>3</th>\n",
       "      <td>Bachelor</td>\n",
       "      <td>4</td>\n",
       "      <td>9866</td>\n",
       "    </tr>\n",
       "    <tr>\n",
       "      <th>4</th>\n",
       "      <td>Bachelor</td>\n",
       "      <td>5</td>\n",
       "      <td>9894</td>\n",
       "    </tr>\n",
       "    <tr>\n",
       "      <th>5</th>\n",
       "      <td>High School</td>\n",
       "      <td>1</td>\n",
       "      <td>6057</td>\n",
       "    </tr>\n",
       "    <tr>\n",
       "      <th>6</th>\n",
       "      <td>High School</td>\n",
       "      <td>2</td>\n",
       "      <td>5928</td>\n",
       "    </tr>\n",
       "    <tr>\n",
       "      <th>7</th>\n",
       "      <td>High School</td>\n",
       "      <td>3</td>\n",
       "      <td>5974</td>\n",
       "    </tr>\n",
       "    <tr>\n",
       "      <th>8</th>\n",
       "      <td>High School</td>\n",
       "      <td>4</td>\n",
       "      <td>6047</td>\n",
       "    </tr>\n",
       "    <tr>\n",
       "      <th>9</th>\n",
       "      <td>High School</td>\n",
       "      <td>5</td>\n",
       "      <td>5998</td>\n",
       "    </tr>\n",
       "    <tr>\n",
       "      <th>10</th>\n",
       "      <td>Master</td>\n",
       "      <td>1</td>\n",
       "      <td>2885</td>\n",
       "    </tr>\n",
       "    <tr>\n",
       "      <th>11</th>\n",
       "      <td>Master</td>\n",
       "      <td>2</td>\n",
       "      <td>2963</td>\n",
       "    </tr>\n",
       "    <tr>\n",
       "      <th>12</th>\n",
       "      <td>Master</td>\n",
       "      <td>3</td>\n",
       "      <td>3052</td>\n",
       "    </tr>\n",
       "    <tr>\n",
       "      <th>13</th>\n",
       "      <td>Master</td>\n",
       "      <td>4</td>\n",
       "      <td>2985</td>\n",
       "    </tr>\n",
       "    <tr>\n",
       "      <th>14</th>\n",
       "      <td>Master</td>\n",
       "      <td>5</td>\n",
       "      <td>3019</td>\n",
       "    </tr>\n",
       "    <tr>\n",
       "      <th>15</th>\n",
       "      <td>PhD</td>\n",
       "      <td>1</td>\n",
       "      <td>1051</td>\n",
       "    </tr>\n",
       "    <tr>\n",
       "      <th>16</th>\n",
       "      <td>PhD</td>\n",
       "      <td>2</td>\n",
       "      <td>1003</td>\n",
       "    </tr>\n",
       "    <tr>\n",
       "      <th>17</th>\n",
       "      <td>PhD</td>\n",
       "      <td>3</td>\n",
       "      <td>938</td>\n",
       "    </tr>\n",
       "    <tr>\n",
       "      <th>18</th>\n",
       "      <td>PhD</td>\n",
       "      <td>4</td>\n",
       "      <td>1042</td>\n",
       "    </tr>\n",
       "    <tr>\n",
       "      <th>19</th>\n",
       "      <td>PhD</td>\n",
       "      <td>5</td>\n",
       "      <td>1017</td>\n",
       "    </tr>\n",
       "  </tbody>\n",
       "</table>\n",
       "</div>"
      ],
      "text/plain": [
       "   Education_Level  Performance_Score  Nbre_total_Emp\n",
       "0         Bachelor                  1           10127\n",
       "1         Bachelor                  2           10119\n",
       "2         Bachelor                  3           10035\n",
       "3         Bachelor                  4            9866\n",
       "4         Bachelor                  5            9894\n",
       "5      High School                  1            6057\n",
       "6      High School                  2            5928\n",
       "7      High School                  3            5974\n",
       "8      High School                  4            6047\n",
       "9      High School                  5            5998\n",
       "10          Master                  1            2885\n",
       "11          Master                  2            2963\n",
       "12          Master                  3            3052\n",
       "13          Master                  4            2985\n",
       "14          Master                  5            3019\n",
       "15             PhD                  1            1051\n",
       "16             PhD                  2            1003\n",
       "17             PhD                  3             938\n",
       "18             PhD                  4            1042\n",
       "19             PhD                  5            1017"
      ]
     },
     "execution_count": 9,
     "metadata": {},
     "output_type": "execute_result"
    }
   ],
   "source": [
    "Score_perf = df.groupby(['Education_Level', 'Performance_Score']).agg(Nbre=('Employee_ID', 'count'))\n",
    "Score_perf=Score_perf.rename(columns={'Nbre':'Nbre_total_Emp'})\n",
    "Score_perf=Score_perf.reset_index()\n",
    "Score_perf\n",
    "                    "
   ]
  },
  {
   "cell_type": "code",
   "execution_count": 10,
   "id": "69d7a531",
   "metadata": {},
   "outputs": [
    {
     "data": {
      "image/png": "[encoded data removed]",
      "text/plain": [
       "<Figure size 800x400 with 1 Axes>"
      ]
     },
     "metadata": {},
     "output_type": "display_data"
    }
   ],
   "source": [
    "plt.figure(figsize=(8, 4))\n",
    "sns.barplot(data=Score_perf, x='Education_Level', y='Nbre_total_Emp', hue='Performance_Score', palette='viridis')\n",
    "plt.title('Score de Performance par Niveau d\\'Étude')\n",
    "plt.xlabel('Niveau d\\'Étude')\n",
    "plt.ylabel('Nombre d\\'Employés')\n",
    "plt.legend(title='Performance Score')\n",
    "plt.show()\n"
   ]
  },
  {
   "cell_type": "markdown",
   "id": "a43d781b",
   "metadata": {},
   "source": [
    "**Observation des graphiques**\n",
    "\n",
    "L'analyse du premier graphique revèle  aucune différence entre  les répartitions des scores de performances par niveau  d'éducation, ce qui nous laisse penser qu'il n'y a aucune liaison entre le niveau d'éducation et le scrore de performnce.\n",
    "<br/>Les répartitions sont casiment identique !\n",
    "\n",
    "Mais en regardant  attentivenment on s'apperçoit d'une légère différence entre les répartions des scores de performances dans chaque niveau d'éducation.\n",
    "\n",
    "\n",
    "**Vérifions nos observation à l'aide de Test Statistique**"
   ]
  },
  {
   "cell_type": "markdown",
   "id": "049089fa",
   "metadata": {},
   "source": [
    "### Test statistique pour vérifier la liaison"
   ]
  },
  {
   "cell_type": "markdown",
   "id": "3e28beaa",
   "metadata": {},
   "source": [
    "**Vérification des conditions de normalité pour le choix du test statistique approprié.**"
   ]
  },
  {
   "cell_type": "code",
   "execution_count": 11,
   "id": "a392259b",
   "metadata": {
    "scrolled": true
   },
   "outputs": [
    {
     "name": "stdout",
     "output_type": "stream",
     "text": [
      "P_valeur de la normalité (shapiro_wilk) ShapiroResult(statistic=0.8882187008857727, pvalue=0.0)\n",
      "P_valeur de la normalité (shapiro_wilk)-High_School ShapiroResult(statistic=0.8874437212944031, pvalue=0.0)\n",
      "P_valeur de la normalité (shapiro_wilk)-Master ShapiroResult(statistic=0.889328122138977, pvalue=0.0)\n",
      "P_valeur de la normalité (shapiro_wilk)-PhD ShapiroResult(statistic=0.8841819167137146, pvalue=0.0)\n"
     ]
    },
    {
     "name": "stderr",
     "output_type": "stream",
     "text": [
      "C:\\ProgramData\\Anaconda3\\lib\\site-packages\\scipy\\stats\\_morestats.py:1800: UserWarning: p-value may not be accurate for N > 5000.\n",
      "  warnings.warn(\"p-value may not be accurate for N > 5000.\")\n"
     ]
    },
    {
     "data": {
      "text/plain": [
       "Text(0.5, 1.0, 'PhD')"
      ]
     },
     "execution_count": 11,
     "metadata": {},
     "output_type": "execute_result"
    },
    {
     "data": {
      "image/png": "[encoded data removed]",
      "text/plain": [
       "<Figure size 800x400 with 4 Axes>"
      ]
     },
     "metadata": {},
     "output_type": "display_data"
    }
   ],
   "source": [
    "# Séparation des groupes\n",
    "Bachelor=df[df['Education_Level']=='Bachelor']['Performance_Score']\n",
    "High_School=df[df['Education_Level']=='High School']['Performance_Score']\n",
    "Master=df[df['Education_Level']=='Master']['Performance_Score']\n",
    "PhD=df[df['Education_Level']=='PhD']['Performance_Score']\n",
    "\n",
    "# Test de normalité des groupe au sein de la variable qualitative.\n",
    "Bachelor_p_value=shapiro(Bachelor)\n",
    "High_School_p_value=shapiro(High_School)\n",
    "Master_p_value=shapiro(Master)\n",
    "PhD_p_value=shapiro(PhD)\n",
    "\n",
    "print(\"P_valeur de la normalité (shapiro_wilk)\", Bachelor_p_value )\n",
    "print(\"P_valeur de la normalité (shapiro_wilk)-High_School\", High_School_p_value)\n",
    "print(\"P_valeur de la normalité (shapiro_wilk)-Master\", Master_p_value )\n",
    "print(\"P_valeur de la normalité (shapiro_wilk)-PhD\", PhD_p_value )\n",
    "\n",
    "# Histogramme pour vérifier la normalité\n",
    "\n",
    "plt.figure(figsize=(8,4))\n",
    "plt.subplot(141)\n",
    "plt.hist(Bachelor, bins=10, color='blue', alpha=0.7)\n",
    "plt.title('Bachelor')\n",
    "\n",
    "plt.subplot(142)\n",
    "plt.hist(High_School, bins=10, color='green', alpha=0.7)\n",
    "plt.title('High_Shool')\n",
    "\n",
    "plt.subplot(143)\n",
    "plt.hist(Master, bins=10, color='red', alpha=0.7)\n",
    "plt.title('Master')\n",
    "\n",
    "plt.subplot(144)\n",
    "plt.hist(PhD, bins=10, color='yellow', alpha=0.7)\n",
    "plt.title('PhD')"
   ]
  },
  {
   "cell_type": "markdown",
   "id": "08326729",
   "metadata": {},
   "source": [
    "De cette analyse, il en resort que la distribution des différents groupes qui constituent la variable qualitative \"Education_Level\" n'est pas normale. Par conséquent, nous allons utiliser un test statique non paramétrique.\n",
    "\n",
    "Nous sommes en présence d'une variable qualitative qui comprend 3 modalités, le test non paramétrique approprié dans ce cas est le test H de Kruskal-Wallis.\n"
   ]
  },
  {
   "cell_type": "code",
   "execution_count": 12,
   "id": "d9bd28e1",
   "metadata": {},
   "outputs": [
    {
     "name": "stdout",
     "output_type": "stream",
     "text": [
      "Statistique H de Kruskal-Wallis : 7.025813074952774\n",
      "p_valeur (Kruskal-Wallis) : 0.07107955714881684\n"
     ]
    }
   ],
   "source": [
    "# test de Kruskal-Wallis\n",
    "kruskal_stat, kruska_p_value =kruskal(Bachelor,High_School,Master,PhD)\n",
    "print(\"Statistique H de Kruskal-Wallis :\",kruskal_stat)\n",
    "print(\"p_valeur (Kruskal-Wallis) :\",kruska_p_value)"
   ]
  },
  {
   "cell_type": "markdown",
   "id": "82822f9a",
   "metadata": {},
   "source": [
    "**Synthèse de la corrélation entre les scores de performances et le niveau d'éducation**\n",
    "\n",
    "<br/>On obtient la Statistique H de Kruskal-Wallis d'environ 7 et une p-value supérieure à 0,05.\n",
    "<br/> On accepte l'hypothèse nulle, par conséquent pas de différence significative  entre les médianes des différents groupes!"
   ]
  },
  {
   "cell_type": "markdown",
   "id": "2a874de2",
   "metadata": {},
   "source": [
    "## Analyse de la relation entre le score de performance et le salaire"
   ]
  },
  {
   "cell_type": "code",
   "execution_count": 13,
   "id": "1e169c19",
   "metadata": {},
   "outputs": [
    {
     "data": {
      "image/png": "[encoded data removed]",
      "text/plain": [
       "<Figure size 640x480 with 1 Axes>"
      ]
     },
     "metadata": {},
     "output_type": "display_data"
    }
   ],
   "source": [
    "plt.scatter(df['Monthly_Salary'],df['Performance_Score'])\n",
    "plt.title('Score de Performance par Salaire')\n",
    "plt.xlabel('Salaire')\n",
    "plt.ylabel('Score de performance')\n",
    "plt.show()"
   ]
  },
  {
   "cell_type": "markdown",
   "id": "3c689abd",
   "metadata": {},
   "source": [
    "**Observation graphique**\n",
    "\n",
    "En observant ce graphique, nous constatons que le score de performance évolut  en meme temps que le salaire. Ce qui peut nous laisser pensé qu'il existe une corrélation linéaire entre le Salaire et le score de performance de l'employé.\n",
    "\n",
    "**Vérifions cette hypothèse de corrélation linéaire entre le salaire et score de performance à l'aide d'un test statistique**.\n",
    "\n"
   ]
  },
  {
   "cell_type": "markdown",
   "id": "6ac009d6",
   "metadata": {},
   "source": [
    "**Vérification des conditions de normalité pour le choix du test statistique approprié.**"
   ]
  },
  {
   "cell_type": "code",
   "execution_count": 14,
   "id": "7ddc84be",
   "metadata": {},
   "outputs": [
    {
     "name": "stdout",
     "output_type": "stream",
     "text": [
      "P_valeur de la normalité (Kolmogorov-Smirnov)-Perf_score KstestResult(statistic=0.8413447460685429, pvalue=0.0)\n",
      "P_valeur de la normalité (Kolmogorov-Smirnov)-Perf_score KstestResult(statistic=1.0, pvalue=0.0)\n"
     ]
    },
    {
     "data": {
      "text/plain": [
       "Text(0.5, 1.0, 'High_Shool')"
      ]
     },
     "execution_count": 14,
     "metadata": {},
     "output_type": "execute_result"
    },
    {
     "data": {
      "image/png": "[encoded data removed]",
      "text/plain": [
       "<Figure size 800x400 with 2 Axes>"
      ]
     },
     "metadata": {},
     "output_type": "display_data"
    }
   ],
   "source": [
    "# Test de normalité de Kolmogorov-Smirnov\n",
    "perf_sco_p_value=kstest(df['Performance_Score'], 'norm')\n",
    "Mon_Sal_p_value=kstest(df['Monthly_Salary'], 'norm')\n",
    "print(\"P_valeur de la normalité (Kolmogorov-Smirnov)-Perf_score\",perf_sco_p_value)\n",
    "print(\"P_valeur de la normalité (Kolmogorov-Smirnov)-Perf_score\",Mon_Sal_p_value)\n",
    "\n",
    "# Histogramme pour vérifier la normalité\n",
    "\n",
    "plt.figure(figsize=(8,4))\n",
    "plt.subplot(121)\n",
    "plt.hist(df['Performance_Score'], bins=10, color='blue', alpha=0.7)\n",
    "plt.title('Bachelor')\n",
    "\n",
    "plt.subplot(122)\n",
    "plt.hist(df['Monthly_Salary'], bins=10, color='green', alpha=0.7)\n",
    "plt.title('High_Shool')\n"
   ]
  },
  {
   "cell_type": "markdown",
   "id": "a4edae74",
   "metadata": {},
   "source": [
    "De cette analyse, il en resort que la distribution des deux variables quantitatives n'est pas normale. Par conséquent, nous allons utiliser un test statistique non paramétrique.\n",
    "\n",
    "Nous sommes en présence de deux  variables quantitatives  qui ne sont pas distribuées normalement, le test non paramétrique approprié dans ce cas est le test de corrélation de Spearman.\n"
   ]
  },
  {
   "cell_type": "code",
   "execution_count": 15,
   "id": "7883890d",
   "metadata": {},
   "outputs": [
    {
     "name": "stdout",
     "output_type": "stream",
     "text": [
      "Spearman's rank correlation: 0.477761298901028\n",
      "P-value: 0.0\n"
     ]
    }
   ],
   "source": [
    "correlation, p_value = spearmanr(df['Performance_Score'], df['Monthly_Salary'])\n",
    "\n",
    "print(f\"Spearman's rank correlation: {correlation}\")\n",
    "print(f\"P-value: {p_value}\")\n",
    "\n"
   ]
  },
  {
   "cell_type": "markdown",
   "id": "822fee07",
   "metadata": {},
   "source": [
    "**Synthèse des résultats**\n",
    "\n",
    "On obtient un coéfficient de corrélation de Spearman de 0.477, ce qui montre l'existence d'une corrélation linéaire positive entre Le Salaire et Score de Performance de l'employé.\n",
    "De plus, la p_valeur est inférieure à 0.5.\n",
    "On rejette donc l'hypothèse nulle, par conséquent il existe une relation monotone entre les deux variables."
   ]
  },
  {
   "cell_type": "markdown",
   "id": "4845265b",
   "metadata": {},
   "source": [
    "## Analyse de la relation entre le score de performance et le nombre d'heure travaillée par semaine"
   ]
  },
  {
   "cell_type": "code",
   "execution_count": 16,
   "id": "3d2eb050",
   "metadata": {},
   "outputs": [
    {
     "data": {
      "image/png": "[encoded data removed]",
      "text/plain": [
       "<Figure size 640x480 with 1 Axes>"
      ]
     },
     "metadata": {},
     "output_type": "display_data"
    }
   ],
   "source": [
    "plt.scatter(df['Work_Hours_Per_Week'],df['Performance_Score'])\n",
    "plt.title('Score de Performance par heures travaillées')\n",
    "plt.xlabel('Heures de travaillées')\n",
    "plt.ylabel('Score de performance')\n",
    "#plt.legend(title='Performance Score')\n",
    "plt.show()"
   ]
  },
  {
   "cell_type": "markdown",
   "id": "5e6741fc",
   "metadata": {},
   "source": [
    "**Observation graphique**\n",
    "\n",
    "L'analyse de ce nuage de point revèle l'abscence de relation liant le score de performance de l'employé au nombre d'heure travaillée par semaine. Ce qui peut nous laisser pensé qu'il n'existe de relation entre le Salaire et le score de performance de l'employé.\n",
    "\n",
    "**Vérifions cette hypothèse de l'abscence de toute relation entre le nombre d'heure travaillée par semaine et le score de performance de l'employé à l'aide d'un test statistique**.\n",
    "\n"
   ]
  },
  {
   "cell_type": "code",
   "execution_count": 17,
   "id": "02d9fad7",
   "metadata": {},
   "outputs": [
    {
     "name": "stdout",
     "output_type": "stream",
     "text": [
      "P_valeur de la normalité (Kolmogorov-Smirnov)-Perf_score KstestResult(statistic=0.8413447460685429, pvalue=0.0)\n",
      "P_valeur de la normalité (Kolmogorov-Smirnov)-Work_Hours KstestResult(statistic=1.0, pvalue=0.0)\n"
     ]
    },
    {
     "data": {
      "text/plain": [
       "Text(0.5, 1.0, \"Nombre d'heures travaillées par semaine\")"
      ]
     },
     "execution_count": 17,
     "metadata": {},
     "output_type": "execute_result"
    },
    {
     "data": {
      "image/png": "[encoded data removed]",
      "text/plain": [
       "<Figure size 800x400 with 2 Axes>"
      ]
     },
     "metadata": {},
     "output_type": "display_data"
    }
   ],
   "source": [
    "# Test de normalité de Kolmogorov-Smirnov\n",
    "perf_sco_p_value=kstest(df['Performance_Score'], 'norm')\n",
    "Work_Hours_p_value=kstest(df['Work_Hours_Per_Week'], 'norm')\n",
    "print(\"P_valeur de la normalité (Kolmogorov-Smirnov)-Perf_score\",perf_sco_p_value)\n",
    "print(\"P_valeur de la normalité (Kolmogorov-Smirnov)-Work_Hours\",Work_Hours_p_value)\n",
    "\n",
    "# Histogramme pour vérifier la normalité\n",
    "\n",
    "plt.figure(figsize=(8,4))\n",
    "plt.subplot(121)\n",
    "plt.hist(df['Performance_Score'], bins=10, color='blue', alpha=0.7)\n",
    "plt.title(\"Score de performance\")\n",
    "\n",
    "plt.subplot(122)\n",
    "plt.hist(df['Work_Hours_Per_Week'], bins=10, color='green', alpha=0.7)\n",
    "plt.title(\"Nombre d'heures travaillées par semaine\")\n"
   ]
  },
  {
   "cell_type": "markdown",
   "id": "c963d83f",
   "metadata": {},
   "source": [
    "De cette analyse, il en resort que la distribution des deux variables quantitatives n'est pas normale. Par conséquent, nous allons utiliser un test statistique non paramétrique.\n",
    "\n",
    "Nous sommes en présence de deux  variables quantitatives  qui ne sont pas distribuées normalement, le test non paramétrique approprié dans ce cas est le test de corrélation de Spearman.\n"
   ]
  },
  {
   "cell_type": "code",
   "execution_count": 18,
   "id": "c4583004",
   "metadata": {},
   "outputs": [
    {
     "name": "stdout",
     "output_type": "stream",
     "text": [
      "Spearman's rank correlation: -0.005625896510790073\n",
      "P-value: 0.07523049544334955\n"
     ]
    }
   ],
   "source": [
    "correlation, p_value = spearmanr(df['Performance_Score'], df['Work_Hours_Per_Week'])\n",
    "\n",
    "print(f\"Spearman's rank correlation: {correlation}\")\n",
    "print(f\"P-value: {p_value}\")"
   ]
  },
  {
   "cell_type": "markdown",
   "id": "8c340979",
   "metadata": {},
   "source": [
    "**Synthèse des résultats**\n",
    "\n",
    "On obtient un coéfficient de corrélation de Spearman de -0.005, ce qui montre l'existence d'une très faire corrélation linéaire négative entre  Score de Performance de l'employé et le nombre d'heures travaillées par semaine.\n",
    "De plus, la p_valeur est supérieur à 0.5.\n",
    "On accepte donc l'hypothèse nulle, par conséquent il n'existe pas de relation monotone entre le score de performance et le nombre d'heures travaillées."
   ]
  },
  {
   "cell_type": "markdown",
   "id": "f5ef5afe",
   "metadata": {},
   "source": [
    "## Analyse de la relation entre le score de performance et la taille de l'équipe du colaborateur"
   ]
  },
  {
   "cell_type": "code",
   "execution_count": 19,
   "id": "dbbae941",
   "metadata": {},
   "outputs": [
    {
     "data": {
      "image/png": "[encoded data removed]",
      "text/plain": [
       "<Figure size 640x480 with 1 Axes>"
      ]
     },
     "metadata": {},
     "output_type": "display_data"
    }
   ],
   "source": [
    "plt.scatter(df['Team_Size'],df['Performance_Score'])\n",
    "plt.title(\"Score de Performance de l'employé par la taille de l'quipe\")\n",
    "plt.xlabel(\"taille de l'équipe du colaborateur\")\n",
    "plt.ylabel('Score de performance')\n",
    "#plt.legend(title='Performance Score')\n",
    "plt.show()"
   ]
  },
  {
   "cell_type": "markdown",
   "id": "272fada3",
   "metadata": {},
   "source": [
    "**Observation graphique**\n",
    "\n",
    "L'analyse de ce nuage de point revèle l'abscence de relation liant le score de performance de l'employé et la taille de son équipe. Ce qui peut nous laisser pensé qu'il n'existe de relation entre la taille de l'équipe et le score de performance de l'employé.\n",
    "\n",
    "**Vérifions cette hypothèse de l'abscence de toute relation entre la taille de l'équipe et le score de performance de l'employé à l'aide d'un test statistique**.\n",
    "\n"
   ]
  },
  {
   "cell_type": "code",
   "execution_count": 20,
   "id": "8d792211",
   "metadata": {},
   "outputs": [
    {
     "name": "stdout",
     "output_type": "stream",
     "text": [
      "Spearman's rank correlation: -0.005156713797736713\n",
      "P-value: 0.10295647789860322\n"
     ]
    }
   ],
   "source": [
    "correlation, p_value = spearmanr(df['Performance_Score'], df['Team_Size'])\n",
    "\n",
    "print(f\"Spearman's rank correlation: {correlation}\")\n",
    "print(f\"P-value: {p_value}\")"
   ]
  },
  {
   "cell_type": "markdown",
   "id": "cfff8d84",
   "metadata": {},
   "source": [
    "**Synthèse des résultats**\n",
    "\n",
    "On obtient un coéfficient de corrélation de Spearman de -0.005, ce qui montre l'existence d'une très faire corrélation linéaire négative entre  Score de Performance de l'employé et la taille de son équipe.\n",
    "De plus, la p_valeur est supérieur à 0.5.\n",
    "On accepte donc l'hypothèse nulle, par conséquent il n'existe pas de relation monotone entre le score de performance et la taille de l'équipe de l'employé."
   ]
  },
  {
   "cell_type": "markdown",
   "id": "912cc2f5",
   "metadata": {},
   "source": [
    "## Analyse de la relation entre le score de performance et le genre de l'employé"
   ]
  },
  {
   "cell_type": "code",
   "execution_count": 21,
   "id": "169cd691",
   "metadata": {},
   "outputs": [
    {
     "data": {
      "image/png": "[encoded data removed]",
      "text/plain": [
       "<Figure size 640x480 with 1 Axes>"
      ]
     },
     "metadata": {},
     "output_type": "display_data"
    }
   ],
   "source": [
    "sns.boxplot(x='Gender',y='Performance_Score', data=df)\n",
    "plt.title('Score de Performance par genre')\n",
    "plt.xlabel('Genre')\n",
    "plt.ylabel('Score de performance')\n",
    "#plt.legend(title='Performance Score')\n",
    "plt.show()"
   ]
  },
  {
   "cell_type": "code",
   "execution_count": 22,
   "id": "2bed9210",
   "metadata": {},
   "outputs": [
    {
     "data": {
      "text/plain": [
       "Gender\n",
       "Female    48001\n",
       "Male      48031\n",
       "Other      3968\n",
       "Name: Performance_Score, dtype: int64"
      ]
     },
     "execution_count": 22,
     "metadata": {},
     "output_type": "execute_result"
    }
   ],
   "source": [
    "Scor_perf_genre = df.groupby('Gender')['Performance_Score'].count()\n",
    "Scor_perf_genre "
   ]
  },
  {
   "cell_type": "code",
   "execution_count": 23,
   "id": "005fd91d",
   "metadata": {},
   "outputs": [
    {
     "data": {
      "image/png": "[encoded data removed]",
      "text/plain": [
       "<Figure size 700x700 with 1 Axes>"
      ]
     },
     "metadata": {},
     "output_type": "display_data"
    }
   ],
   "source": [
    "colors = ['red', 'blue', 'green']\n",
    "Scor_perf_genre.plot.pie(colors = colors, figsize=(7, 7), autopct = \"%1.1f%%\")\n",
    "plt.title(\"Répartition des scores de performances par genre\", size = 20)\n",
    "plt.legend(['Female','Male','Other '], fontsize = 15)\n",
    "plt.show()"
   ]
  },
  {
   "cell_type": "code",
   "execution_count": 24,
   "id": "635bfea7",
   "metadata": {},
   "outputs": [
    {
     "name": "stdout",
     "output_type": "stream",
     "text": [
      "P_valeur de la normalité (shapiro_wilk)-Female ShapiroResult(statistic=0.8886569142341614, pvalue=0.0)\n",
      "P_valeur de la normalité (shapiro_wilk)-Male ShapiroResult(statistic=0.8871160745620728, pvalue=0.0)\n",
      "P_valeur de la normalité (shapiro_wilk)-Other ShapiroResult(statistic=0.8863699436187744, pvalue=0.0)\n"
     ]
    },
    {
     "name": "stderr",
     "output_type": "stream",
     "text": [
      "C:\\ProgramData\\Anaconda3\\lib\\site-packages\\scipy\\stats\\_morestats.py:1800: UserWarning: p-value may not be accurate for N > 5000.\n",
      "  warnings.warn(\"p-value may not be accurate for N > 5000.\")\n"
     ]
    },
    {
     "data": {
      "text/plain": [
       "Text(0.5, 1.0, 'Other')"
      ]
     },
     "execution_count": 24,
     "metadata": {},
     "output_type": "execute_result"
    },
    {
     "data": {
      "image/png": "[encoded data removed]",
      "text/plain": [
       "<Figure size 800x400 with 3 Axes>"
      ]
     },
     "metadata": {},
     "output_type": "display_data"
    }
   ],
   "source": [
    "# Séparation des groupe\n",
    "Female=df[df['Gender']=='Female']['Performance_Score']\n",
    "Male=df[df['Gender']=='Male']['Performance_Score']\n",
    "Other=df[df['Gender']=='Other']['Performance_Score']\n",
    "\n",
    "# Test de normalité des groupe au sein de la variable qualitative.\n",
    "Female_p_value=shapiro(Female)\n",
    "Male_p_value=shapiro(Male)\n",
    "Other_p_value=shapiro(Other)\n",
    "\n",
    "print(\"P_valeur de la normalité (shapiro_wilk)-Female\", Female_p_value )\n",
    "print(\"P_valeur de la normalité (shapiro_wilk)-Male\", Male_p_value)\n",
    "print(\"P_valeur de la normalité (shapiro_wilk)-Other\", Other_p_value )\n",
    "\n",
    "\n",
    "# Histogramme pour vérifier la normalité\n",
    "\n",
    "plt.figure(figsize=(8,4))\n",
    "plt.subplot(131)\n",
    "plt.hist(Female, bins=10, color='blue', alpha=0.9)\n",
    "plt.title('Female')\n",
    "\n",
    "plt.subplot(132)\n",
    "plt.hist(Male, bins=10, color='green', alpha=0.9)\n",
    "plt.title('Male')\n",
    "\n",
    "plt.subplot(133)\n",
    "plt.hist(Other, bins=10, color='red', alpha=0.9)\n",
    "plt.title('Other')\n"
   ]
  },
  {
   "cell_type": "markdown",
   "id": "0b570e9d",
   "metadata": {},
   "source": [
    "De cette analyse, il en resort que la distribution des différents groupes qui constituent la variable qualitative \"Gender\" n'est pas normale. Par conséquent, nous allons utiliser un test statique non paramétrique.\n",
    "\n",
    "Nous sommes en présence d'une variable qualitative qui comprend 3 modalités, le test non paramétrique approprié dans ce cas est le test H de Kruskal-Wallis.\n"
   ]
  },
  {
   "cell_type": "code",
   "execution_count": 25,
   "id": "8b1ae117",
   "metadata": {},
   "outputs": [
    {
     "name": "stdout",
     "output_type": "stream",
     "text": [
      "Statistique H de Kruskal-Wallis : 1.1673754061318156\n",
      "p_valeur (Kruskal-Wallis) : 0.5578374300389777\n"
     ]
    }
   ],
   "source": [
    "# test de Kruskal-Wallis\n",
    "kruskal_stat, kruska_p_value =kruskal(Female,Male,Other)\n",
    "print(\"Statistique H de Kruskal-Wallis :\",kruskal_stat)\n",
    "print(\"p_valeur (Kruskal-Wallis) :\",kruska_p_value)"
   ]
  },
  {
   "cell_type": "markdown",
   "id": "44796f5a",
   "metadata": {},
   "source": [
    "**Synthèse de la corrélation entre les scores de performances et le genre de l'employé**\n",
    "\n",
    "<br/>On obtient la Statistique H de Kruskal-Wallis d'environ 1.167 et une p-value supérieure à 0,05.\n",
    "<br/> On accepte l'hypothèse nulle, par conséquent pas de différence significative  entre les médianes des différents groupes!"
   ]
  },
  {
   "cell_type": "markdown",
   "id": "a8f567f9",
   "metadata": {},
   "source": [
    "**Conclusion**\n",
    "\n",
    "Il n'existe pas de liaison entre le genre de l'employé et son score de performance."
   ]
  },
  {
   "cell_type": "markdown",
   "id": "f3b56d34",
   "metadata": {},
   "source": [
    "# Synthèse des résultats."
   ]
  },
  {
   "cell_type": "markdown",
   "id": "3478d4e6",
   "metadata": {},
   "source": [
    "Nous retenons de cette analyse les résultats suvants:\n",
    "     \n",
    "- L'existence d'une faible  liaison linéaire entre le score de performance de l'employé et son salaire.\n",
    "- Absence de relation entre le score de performance de l'employé et les variables telles que: le Genre, la taille de l'équipe, les heures travaillées par semaine et le niveau d'éducation."
   ]
  },
  {
   "cell_type": "code",
   "execution_count": null,
   "id": "07d8bcfb",
   "metadata": {},
   "outputs": [],
   "source": []
  }
 ],
 "metadata": {
  "kernelspec": {
   "display_name": "Python 3 (ipykernel)",
   "language": "python",
   "name": "python3"
  },
  "language_info": {
   "codemirror_mode": {
    "name": "ipython",
    "version": 3
   },
   "file_extension": ".py",
   "mimetype": "text/x-python",
   "name": "python",
   "nbconvert_exporter": "python",
   "pygments_lexer": "ipython3",
   "version": "3.9.13"
  }
 },
 "nbformat": 4,
 "nbformat_minor": 5
}
